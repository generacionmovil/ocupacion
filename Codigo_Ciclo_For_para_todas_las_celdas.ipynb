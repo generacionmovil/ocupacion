{
  "nbformat": 4,
  "nbformat_minor": 0,
  "metadata": {
    "colab": {
      "name": "Codigo Ciclo For para todas las celdas",
      "provenance": [],
      "collapsed_sections": [],
      "toc_visible": true,
      "include_colab_link": true
    },
    "kernelspec": {
      "display_name": "Python 3",
      "name": "python3"
    }
  },
  "cells": [
    {
      "cell_type": "markdown",
      "metadata": {
        "id": "view-in-github",
        "colab_type": "text"
      },
      "source": [
        "<a href=\"https://colab.research.google.com/github/generacionmovil/ocupacion/blob/main/Codigo_Ciclo_For_para_todas_las_celdas.ipynb\" target=\"_parent\"><img src=\"https://colab.research.google.com/assets/colab-badge.svg\" alt=\"Open In Colab\"/></a>"
      ]
    },
    {
      "cell_type": "markdown",
      "metadata": {
        "id": "2uNtVGeGVsim"
      },
      "source": [
        "#Paquetes"
      ]
    },
    {
      "cell_type": "code",
      "metadata": {
        "colab": {
          "base_uri": "https://localhost:8080/"
        },
        "id": "AuvM8m69tSn3",
        "outputId": "1529ba44-c7eb-4dc0-8c61-3f6acdd63576"
      },
      "source": [
        "!pip install pmdarima"
      ],
      "execution_count": null,
      "outputs": [
        {
          "output_type": "stream",
          "text": [
            "Collecting pmdarima\n",
            "\u001b[?25l  Downloading https://files.pythonhosted.org/packages/c9/d7/61af1897449638822f97c8b43ef0c2fce2ec68a6cda9a43ebbbdd12b967c/pmdarima-1.8.0-cp36-cp36m-manylinux1_x86_64.whl (1.5MB)\n",
            "\u001b[K     |████████████████████████████████| 1.5MB 5.6MB/s \n",
            "\u001b[?25hRequirement already satisfied: scikit-learn>=0.22 in /usr/local/lib/python3.6/dist-packages (from pmdarima) (0.22.2.post1)\n",
            "Requirement already satisfied: pandas>=0.19 in /usr/local/lib/python3.6/dist-packages (from pmdarima) (1.1.4)\n",
            "Requirement already satisfied: scipy>=1.3.2 in /usr/local/lib/python3.6/dist-packages (from pmdarima) (1.4.1)\n",
            "Requirement already satisfied: numpy>=1.17.3 in /usr/local/lib/python3.6/dist-packages (from pmdarima) (1.18.5)\n",
            "Requirement already satisfied: setuptools!=50.0.0,>=38.6.0 in /usr/local/lib/python3.6/dist-packages (from pmdarima) (50.3.2)\n",
            "Collecting statsmodels!=0.12.0,>=0.11\n",
            "\u001b[?25l  Downloading https://files.pythonhosted.org/packages/be/4c/9e2435ca6645d6bafa2b51bb11f0a365b28934a2ffe9d6e339d67130926d/statsmodels-0.12.1-cp36-cp36m-manylinux1_x86_64.whl (9.5MB)\n",
            "\u001b[K     |████████████████████████████████| 9.5MB 22.4MB/s \n",
            "\u001b[?25hRequirement already satisfied: urllib3 in /usr/local/lib/python3.6/dist-packages (from pmdarima) (1.24.3)\n",
            "Requirement already satisfied: joblib>=0.11 in /usr/local/lib/python3.6/dist-packages (from pmdarima) (0.17.0)\n",
            "Collecting Cython<0.29.18,>=0.29\n",
            "\u001b[?25l  Downloading https://files.pythonhosted.org/packages/e7/d7/510ddef0248f3e1e91f9cc7e31c0f35f8954d0af92c5c3fd4c853e859ebe/Cython-0.29.17-cp36-cp36m-manylinux1_x86_64.whl (2.1MB)\n",
            "\u001b[K     |████████████████████████████████| 2.1MB 37.8MB/s \n",
            "\u001b[?25hRequirement already satisfied: pytz>=2017.2 in /usr/local/lib/python3.6/dist-packages (from pandas>=0.19->pmdarima) (2018.9)\n",
            "Requirement already satisfied: python-dateutil>=2.7.3 in /usr/local/lib/python3.6/dist-packages (from pandas>=0.19->pmdarima) (2.8.1)\n",
            "Requirement already satisfied: patsy>=0.5 in /usr/local/lib/python3.6/dist-packages (from statsmodels!=0.12.0,>=0.11->pmdarima) (0.5.1)\n",
            "Requirement already satisfied: six>=1.5 in /usr/local/lib/python3.6/dist-packages (from python-dateutil>=2.7.3->pandas>=0.19->pmdarima) (1.15.0)\n",
            "Installing collected packages: statsmodels, Cython, pmdarima\n",
            "  Found existing installation: statsmodels 0.10.2\n",
            "    Uninstalling statsmodels-0.10.2:\n",
            "      Successfully uninstalled statsmodels-0.10.2\n",
            "  Found existing installation: Cython 0.29.21\n",
            "    Uninstalling Cython-0.29.21:\n",
            "      Successfully uninstalled Cython-0.29.21\n",
            "Successfully installed Cython-0.29.17 pmdarima-1.8.0 statsmodels-0.12.1\n"
          ],
          "name": "stdout"
        }
      ]
    },
    {
      "cell_type": "code",
      "metadata": {
        "id": "mJIn0nmYxIVz"
      },
      "source": [
        "import logging\n",
        "import numpy as np"
      ],
      "execution_count": null,
      "outputs": []
    },
    {
      "cell_type": "code",
      "metadata": {
        "id": "nl5gOHV4s1fl"
      },
      "source": [
        "## For data\n",
        "import pandas as pd\n",
        "import numpy as np\n",
        "## For plotting\n",
        "import matplotlib.pyplot as plt\n",
        "## For Arima\n",
        "import pmdarima\n",
        "import statsmodels.tsa.api as smt\n",
        "## For Lstm\n",
        "from tensorflow.keras import models, layers, preprocessing as kprocessing\n",
        "## For Prophet\n",
        "from fbprophet import Prophet"
      ],
      "execution_count": null,
      "outputs": []
    },
    {
      "cell_type": "markdown",
      "metadata": {
        "id": "hpKbhH2dGPR1"
      },
      "source": [
        "#Tratamiento base de datos\n",
        "\n",
        "\n",
        "\n"
      ]
    },
    {
      "cell_type": "code",
      "metadata": {
        "id": "VUs9o5aSG598"
      },
      "source": [
        ""
      ],
      "execution_count": null,
      "outputs": []
    },
    {
      "cell_type": "code",
      "metadata": {
        "colab": {
          "base_uri": "https://localhost:8080/"
        },
        "id": "SOkG_4ziHk0V",
        "outputId": "7015e50b-5ccb-4410-908f-46428581c441"
      },
      "source": [
        "from google.colab import drive\n",
        "drive.mount('/content/drive')"
      ],
      "execution_count": null,
      "outputs": [
        {
          "output_type": "stream",
          "text": [
            "Mounted at /content/drive\n"
          ],
          "name": "stdout"
        }
      ]
    },
    {
      "cell_type": "code",
      "metadata": {
        "colab": {
          "base_uri": "https://localhost:8080/",
          "height": 461
        },
        "id": "TM5KvaOlJwKQ",
        "outputId": "b8c577ad-ad8c-499d-ad65-cafd474d2e25"
      },
      "source": [
        "dtf = pd.read_csv(\"/content/drive/My Drive/colab bases/Consolidado General 11_2018-06_2020.csv\", encoding='latin1', delimiter=';')\n",
        "dtf.head()"
      ],
      "execution_count": null,
      "outputs": [
        {
          "output_type": "stream",
          "text": [
            "/usr/local/lib/python3.6/dist-packages/IPython/core/interactiveshell.py:2718: DtypeWarning:\n",
            "\n",
            "Columns (12,14) have mixed types.Specify dtype option on import or set low_memory=False.\n",
            "\n"
          ],
          "name": "stderr"
        },
        {
          "output_type": "execute_result",
          "data": {
            "text/html": [
              "<div>\n",
              "<style scoped>\n",
              "    .dataframe tbody tr th:only-of-type {\n",
              "        vertical-align: middle;\n",
              "    }\n",
              "\n",
              "    .dataframe tbody tr th {\n",
              "        vertical-align: top;\n",
              "    }\n",
              "\n",
              "    .dataframe thead th {\n",
              "        text-align: right;\n",
              "    }\n",
              "</style>\n",
              "<table border=\"1\" class=\"dataframe\">\n",
              "  <thead>\n",
              "    <tr style=\"text-align: right;\">\n",
              "      <th></th>\n",
              "      <th>Id Registro</th>\n",
              "      <th>Operador ingreso</th>\n",
              "      <th>Operador salida</th>\n",
              "      <th>Codigo Zona</th>\n",
              "      <th>Placa</th>\n",
              "      <th>Tipo vehículo</th>\n",
              "      <th>Fecha ingreso</th>\n",
              "      <th>Hora ingreso</th>\n",
              "      <th>Fecha salida</th>\n",
              "      <th>Hora salida</th>\n",
              "      <th>Impulsador TR</th>\n",
              "      <th>Fecha TR</th>\n",
              "      <th>Total minutos</th>\n",
              "      <th>Valor</th>\n",
              "      <th>Num. Factura</th>\n",
              "      <th>Tarifa</th>\n",
              "      <th>Estado factura</th>\n",
              "    </tr>\n",
              "  </thead>\n",
              "  <tbody>\n",
              "    <tr>\n",
              "      <th>0</th>\n",
              "      <td>5810628</td>\n",
              "      <td>EDER ECHEVERRY GALEANO</td>\n",
              "      <td>EDER ECHEVERRY GALEANO</td>\n",
              "      <td>EL ABUELO Y SON &amp; SORBO</td>\n",
              "      <td>EHL999</td>\n",
              "      <td>Automoviles</td>\n",
              "      <td>2018-11-01 07:01:53</td>\n",
              "      <td>07:01:53</td>\n",
              "      <td>2018-11-01 07:14:47</td>\n",
              "      <td>07:14:47</td>\n",
              "      <td>NaN</td>\n",
              "      <td>NaN</td>\n",
              "      <td>0h 12m 54s</td>\n",
              "      <td>800</td>\n",
              "      <td>NaN</td>\n",
              "      <td>CARRO ZER CALDAS</td>\n",
              "      <td>Tiquete pago</td>\n",
              "    </tr>\n",
              "    <tr>\n",
              "      <th>1</th>\n",
              "      <td>5810635</td>\n",
              "      <td>EDER ECHEVERRY GALEANO</td>\n",
              "      <td>EDER ECHEVERRY GALEANO</td>\n",
              "      <td>EL ABUELO Y SON &amp; SORBO</td>\n",
              "      <td>FCY730</td>\n",
              "      <td>Automoviles</td>\n",
              "      <td>2018-11-01 07:02:23</td>\n",
              "      <td>07:02:23</td>\n",
              "      <td>2018-11-01 18:25:24</td>\n",
              "      <td>18:25:24</td>\n",
              "      <td>NaN</td>\n",
              "      <td>NaN</td>\n",
              "      <td>11h 23m 1s</td>\n",
              "      <td>36800</td>\n",
              "      <td>NaN</td>\n",
              "      <td>CARRO ZER CALDAS</td>\n",
              "      <td>Tiquete pago</td>\n",
              "    </tr>\n",
              "    <tr>\n",
              "      <th>2</th>\n",
              "      <td>5822823</td>\n",
              "      <td>EDER ECHEVERRY GALEANO</td>\n",
              "      <td>EDER ECHEVERRY GALEANO</td>\n",
              "      <td>EL ABUELO Y SON &amp; SORBO</td>\n",
              "      <td>HNV201</td>\n",
              "      <td>Automoviles</td>\n",
              "      <td>2018-11-01 07:35:28</td>\n",
              "      <td>07:35:28</td>\n",
              "      <td>2018-11-01 18:49:40</td>\n",
              "      <td>18:49:40</td>\n",
              "      <td>NaN</td>\n",
              "      <td>NaN</td>\n",
              "      <td>11h 14m 12s</td>\n",
              "      <td>36000</td>\n",
              "      <td>NaN</td>\n",
              "      <td>CARRO ZER CALDAS</td>\n",
              "      <td>Tiquete pago</td>\n",
              "    </tr>\n",
              "    <tr>\n",
              "      <th>3</th>\n",
              "      <td>5811677</td>\n",
              "      <td>SEBASTIAN VELASQUEZ POSADA</td>\n",
              "      <td>SEBASTIAN VELASQUEZ POSADA</td>\n",
              "      <td>FULLHOGAR</td>\n",
              "      <td>WUX03C</td>\n",
              "      <td>Motos</td>\n",
              "      <td>2018-11-01 07:46:34</td>\n",
              "      <td>07:46:34</td>\n",
              "      <td>2018-11-01 12:12:11</td>\n",
              "      <td>12:12:11</td>\n",
              "      <td>NaN</td>\n",
              "      <td>NaN</td>\n",
              "      <td>4h 25m 37s</td>\n",
              "      <td>4500</td>\n",
              "      <td>NaN</td>\n",
              "      <td>MOTOS ZER CALDAS</td>\n",
              "      <td>Tiquete pago</td>\n",
              "    </tr>\n",
              "    <tr>\n",
              "      <th>4</th>\n",
              "      <td>5811679</td>\n",
              "      <td>SEBASTIAN VELASQUEZ POSADA</td>\n",
              "      <td>SEBASTIAN VELASQUEZ POSADA</td>\n",
              "      <td>FULLHOGAR</td>\n",
              "      <td>ZHA49A</td>\n",
              "      <td>Motos</td>\n",
              "      <td>2018-11-01 07:48:15</td>\n",
              "      <td>07:48:15</td>\n",
              "      <td>2018-11-01 20:58:34</td>\n",
              "      <td>20:58:34</td>\n",
              "      <td>NaN</td>\n",
              "      <td>NaN</td>\n",
              "      <td>13h 10m 19s</td>\n",
              "      <td>11250</td>\n",
              "      <td>NaN</td>\n",
              "      <td>MOTOS ZER CALDAS</td>\n",
              "      <td>Tiquete pago</td>\n",
              "    </tr>\n",
              "  </tbody>\n",
              "</table>\n",
              "</div>"
            ],
            "text/plain": [
              "   Id Registro            Operador ingreso  ...            Tarifa Estado factura\n",
              "0      5810628      EDER ECHEVERRY GALEANO  ...  CARRO ZER CALDAS   Tiquete pago\n",
              "1      5810635      EDER ECHEVERRY GALEANO  ...  CARRO ZER CALDAS   Tiquete pago\n",
              "2      5822823      EDER ECHEVERRY GALEANO  ...  CARRO ZER CALDAS   Tiquete pago\n",
              "3      5811677  SEBASTIAN VELASQUEZ POSADA  ...  MOTOS ZER CALDAS   Tiquete pago\n",
              "4      5811679  SEBASTIAN VELASQUEZ POSADA  ...  MOTOS ZER CALDAS   Tiquete pago\n",
              "\n",
              "[5 rows x 17 columns]"
            ]
          },
          "metadata": {
            "tags": []
          },
          "execution_count": 5
        }
      ]
    },
    {
      "cell_type": "code",
      "metadata": {
        "colab": {
          "base_uri": "https://localhost:8080/"
        },
        "id": "4LuP4mLqKjol",
        "outputId": "77e8147a-ca7c-40b3-e1fa-85b5923596f9"
      },
      "source": [
        "print(list(dtf.columns))"
      ],
      "execution_count": null,
      "outputs": [
        {
          "output_type": "stream",
          "text": [
            "['Id Registro', 'Operador ingreso', 'Operador salida', 'Codigo Zona', 'Placa', 'Tipo vehículo', 'Fecha ingreso', 'Hora ingreso', 'Fecha salida', 'Hora salida', 'Impulsador TR', 'Fecha TR', 'Total minutos', 'Valor', 'Num. Factura', 'Tarifa', 'Estado factura']\n"
          ],
          "name": "stdout"
        }
      ]
    },
    {
      "cell_type": "code",
      "metadata": {
        "colab": {
          "base_uri": "https://localhost:8080/",
          "height": 388
        },
        "id": "eMS-wDSfKzdW",
        "outputId": "0e09ff3f-f130-46ba-d229-1a82d775c869"
      },
      "source": [
        "##Escoger zona a filtrar\n",
        "dtf=dtf[dtf['Codigo Zona']=='FULLHOGAR']\n",
        "dtf.head()"
      ],
      "execution_count": null,
      "outputs": [
        {
          "output_type": "execute_result",
          "data": {
            "text/html": [
              "<div>\n",
              "<style scoped>\n",
              "    .dataframe tbody tr th:only-of-type {\n",
              "        vertical-align: middle;\n",
              "    }\n",
              "\n",
              "    .dataframe tbody tr th {\n",
              "        vertical-align: top;\n",
              "    }\n",
              "\n",
              "    .dataframe thead th {\n",
              "        text-align: right;\n",
              "    }\n",
              "</style>\n",
              "<table border=\"1\" class=\"dataframe\">\n",
              "  <thead>\n",
              "    <tr style=\"text-align: right;\">\n",
              "      <th></th>\n",
              "      <th>Id Registro</th>\n",
              "      <th>Operador ingreso</th>\n",
              "      <th>Operador salida</th>\n",
              "      <th>Codigo Zona</th>\n",
              "      <th>Placa</th>\n",
              "      <th>Tipo vehículo</th>\n",
              "      <th>Fecha ingreso</th>\n",
              "      <th>Hora ingreso</th>\n",
              "      <th>Fecha salida</th>\n",
              "      <th>Hora salida</th>\n",
              "      <th>Impulsador TR</th>\n",
              "      <th>Fecha TR</th>\n",
              "      <th>Total minutos</th>\n",
              "      <th>Valor</th>\n",
              "      <th>Num. Factura</th>\n",
              "      <th>Tarifa</th>\n",
              "      <th>Estado factura</th>\n",
              "    </tr>\n",
              "  </thead>\n",
              "  <tbody>\n",
              "    <tr>\n",
              "      <th>3</th>\n",
              "      <td>5811677</td>\n",
              "      <td>SEBASTIAN VELASQUEZ POSADA</td>\n",
              "      <td>SEBASTIAN VELASQUEZ POSADA</td>\n",
              "      <td>FULLHOGAR</td>\n",
              "      <td>WUX03C</td>\n",
              "      <td>Motos</td>\n",
              "      <td>2018-11-01 07:46:34</td>\n",
              "      <td>07:46:34</td>\n",
              "      <td>2018-11-01 12:12:11</td>\n",
              "      <td>12:12:11</td>\n",
              "      <td>NaN</td>\n",
              "      <td>NaN</td>\n",
              "      <td>4h 25m 37s</td>\n",
              "      <td>4500</td>\n",
              "      <td>NaN</td>\n",
              "      <td>MOTOS ZER CALDAS</td>\n",
              "      <td>Tiquete pago</td>\n",
              "    </tr>\n",
              "    <tr>\n",
              "      <th>4</th>\n",
              "      <td>5811679</td>\n",
              "      <td>SEBASTIAN VELASQUEZ POSADA</td>\n",
              "      <td>SEBASTIAN VELASQUEZ POSADA</td>\n",
              "      <td>FULLHOGAR</td>\n",
              "      <td>ZHA49A</td>\n",
              "      <td>Motos</td>\n",
              "      <td>2018-11-01 07:48:15</td>\n",
              "      <td>07:48:15</td>\n",
              "      <td>2018-11-01 20:58:34</td>\n",
              "      <td>20:58:34</td>\n",
              "      <td>NaN</td>\n",
              "      <td>NaN</td>\n",
              "      <td>13h 10m 19s</td>\n",
              "      <td>11250</td>\n",
              "      <td>NaN</td>\n",
              "      <td>MOTOS ZER CALDAS</td>\n",
              "      <td>Tiquete pago</td>\n",
              "    </tr>\n",
              "    <tr>\n",
              "      <th>5</th>\n",
              "      <td>5811680</td>\n",
              "      <td>SEBASTIAN VELASQUEZ POSADA</td>\n",
              "      <td>SEBASTIAN VELASQUEZ POSADA</td>\n",
              "      <td>FULLHOGAR</td>\n",
              "      <td>HBG80D</td>\n",
              "      <td>Motos</td>\n",
              "      <td>2018-11-01 07:51:18</td>\n",
              "      <td>07:51:18</td>\n",
              "      <td>2018-11-01 20:58:09</td>\n",
              "      <td>20:58:09</td>\n",
              "      <td>NaN</td>\n",
              "      <td>NaN</td>\n",
              "      <td>13h 6m 51s</td>\n",
              "      <td>11250</td>\n",
              "      <td>NaN</td>\n",
              "      <td>MOTOS ZER CALDAS</td>\n",
              "      <td>Tiquete pago</td>\n",
              "    </tr>\n",
              "    <tr>\n",
              "      <th>6</th>\n",
              "      <td>5811678</td>\n",
              "      <td>SEBASTIAN VELASQUEZ POSADA</td>\n",
              "      <td>SEBASTIAN VELASQUEZ POSADA</td>\n",
              "      <td>FULLHOGAR</td>\n",
              "      <td>MBG26C</td>\n",
              "      <td>Motos</td>\n",
              "      <td>2018-11-01 07:51:58</td>\n",
              "      <td>07:51:58</td>\n",
              "      <td>2018-11-01 12:17:22</td>\n",
              "      <td>12:17:22</td>\n",
              "      <td>NaN</td>\n",
              "      <td>NaN</td>\n",
              "      <td>4h 25m 24s</td>\n",
              "      <td>4500</td>\n",
              "      <td>NaN</td>\n",
              "      <td>MOTOS ZER CALDAS</td>\n",
              "      <td>Tiquete pago</td>\n",
              "    </tr>\n",
              "    <tr>\n",
              "      <th>7</th>\n",
              "      <td>5811681</td>\n",
              "      <td>SEBASTIAN VELASQUEZ POSADA</td>\n",
              "      <td>SEBASTIAN VELASQUEZ POSADA</td>\n",
              "      <td>FULLHOGAR</td>\n",
              "      <td>PIX35E</td>\n",
              "      <td>Motos</td>\n",
              "      <td>2018-11-01 07:52:37</td>\n",
              "      <td>07:52:37</td>\n",
              "      <td>2018-11-01 20:58:23</td>\n",
              "      <td>20:58:23</td>\n",
              "      <td>NaN</td>\n",
              "      <td>NaN</td>\n",
              "      <td>13h 5m 46s</td>\n",
              "      <td>11250</td>\n",
              "      <td>NaN</td>\n",
              "      <td>MOTOS ZER CALDAS</td>\n",
              "      <td>Tiquete pago</td>\n",
              "    </tr>\n",
              "  </tbody>\n",
              "</table>\n",
              "</div>"
            ],
            "text/plain": [
              "   Id Registro            Operador ingreso  ...            Tarifa Estado factura\n",
              "3      5811677  SEBASTIAN VELASQUEZ POSADA  ...  MOTOS ZER CALDAS   Tiquete pago\n",
              "4      5811679  SEBASTIAN VELASQUEZ POSADA  ...  MOTOS ZER CALDAS   Tiquete pago\n",
              "5      5811680  SEBASTIAN VELASQUEZ POSADA  ...  MOTOS ZER CALDAS   Tiquete pago\n",
              "6      5811678  SEBASTIAN VELASQUEZ POSADA  ...  MOTOS ZER CALDAS   Tiquete pago\n",
              "7      5811681  SEBASTIAN VELASQUEZ POSADA  ...  MOTOS ZER CALDAS   Tiquete pago\n",
              "\n",
              "[5 rows x 17 columns]"
            ]
          },
          "metadata": {
            "tags": []
          },
          "execution_count": 7
        }
      ]
    },
    {
      "cell_type": "code",
      "metadata": {
        "colab": {
          "base_uri": "https://localhost:8080/",
          "height": 388
        },
        "id": "5IEOQQuhMQq4",
        "outputId": "1b5baa3e-b1b3-483e-f806-fc48245bdc92"
      },
      "source": [
        "##Escoger tipo de vehiculo\n",
        "dtf=dtf[dtf['Tipo vehículo']=='Motos']\n",
        "dtf.head()"
      ],
      "execution_count": null,
      "outputs": [
        {
          "output_type": "execute_result",
          "data": {
            "text/html": [
              "<div>\n",
              "<style scoped>\n",
              "    .dataframe tbody tr th:only-of-type {\n",
              "        vertical-align: middle;\n",
              "    }\n",
              "\n",
              "    .dataframe tbody tr th {\n",
              "        vertical-align: top;\n",
              "    }\n",
              "\n",
              "    .dataframe thead th {\n",
              "        text-align: right;\n",
              "    }\n",
              "</style>\n",
              "<table border=\"1\" class=\"dataframe\">\n",
              "  <thead>\n",
              "    <tr style=\"text-align: right;\">\n",
              "      <th></th>\n",
              "      <th>Id Registro</th>\n",
              "      <th>Operador ingreso</th>\n",
              "      <th>Operador salida</th>\n",
              "      <th>Codigo Zona</th>\n",
              "      <th>Placa</th>\n",
              "      <th>Tipo vehículo</th>\n",
              "      <th>Fecha ingreso</th>\n",
              "      <th>Hora ingreso</th>\n",
              "      <th>Fecha salida</th>\n",
              "      <th>Hora salida</th>\n",
              "      <th>Impulsador TR</th>\n",
              "      <th>Fecha TR</th>\n",
              "      <th>Total minutos</th>\n",
              "      <th>Valor</th>\n",
              "      <th>Num. Factura</th>\n",
              "      <th>Tarifa</th>\n",
              "      <th>Estado factura</th>\n",
              "    </tr>\n",
              "  </thead>\n",
              "  <tbody>\n",
              "    <tr>\n",
              "      <th>3</th>\n",
              "      <td>5811677</td>\n",
              "      <td>SEBASTIAN VELASQUEZ POSADA</td>\n",
              "      <td>SEBASTIAN VELASQUEZ POSADA</td>\n",
              "      <td>FULLHOGAR</td>\n",
              "      <td>WUX03C</td>\n",
              "      <td>Motos</td>\n",
              "      <td>2018-11-01 07:46:34</td>\n",
              "      <td>07:46:34</td>\n",
              "      <td>2018-11-01 12:12:11</td>\n",
              "      <td>12:12:11</td>\n",
              "      <td>NaN</td>\n",
              "      <td>NaN</td>\n",
              "      <td>4h 25m 37s</td>\n",
              "      <td>4500</td>\n",
              "      <td>NaN</td>\n",
              "      <td>MOTOS ZER CALDAS</td>\n",
              "      <td>Tiquete pago</td>\n",
              "    </tr>\n",
              "    <tr>\n",
              "      <th>4</th>\n",
              "      <td>5811679</td>\n",
              "      <td>SEBASTIAN VELASQUEZ POSADA</td>\n",
              "      <td>SEBASTIAN VELASQUEZ POSADA</td>\n",
              "      <td>FULLHOGAR</td>\n",
              "      <td>ZHA49A</td>\n",
              "      <td>Motos</td>\n",
              "      <td>2018-11-01 07:48:15</td>\n",
              "      <td>07:48:15</td>\n",
              "      <td>2018-11-01 20:58:34</td>\n",
              "      <td>20:58:34</td>\n",
              "      <td>NaN</td>\n",
              "      <td>NaN</td>\n",
              "      <td>13h 10m 19s</td>\n",
              "      <td>11250</td>\n",
              "      <td>NaN</td>\n",
              "      <td>MOTOS ZER CALDAS</td>\n",
              "      <td>Tiquete pago</td>\n",
              "    </tr>\n",
              "    <tr>\n",
              "      <th>5</th>\n",
              "      <td>5811680</td>\n",
              "      <td>SEBASTIAN VELASQUEZ POSADA</td>\n",
              "      <td>SEBASTIAN VELASQUEZ POSADA</td>\n",
              "      <td>FULLHOGAR</td>\n",
              "      <td>HBG80D</td>\n",
              "      <td>Motos</td>\n",
              "      <td>2018-11-01 07:51:18</td>\n",
              "      <td>07:51:18</td>\n",
              "      <td>2018-11-01 20:58:09</td>\n",
              "      <td>20:58:09</td>\n",
              "      <td>NaN</td>\n",
              "      <td>NaN</td>\n",
              "      <td>13h 6m 51s</td>\n",
              "      <td>11250</td>\n",
              "      <td>NaN</td>\n",
              "      <td>MOTOS ZER CALDAS</td>\n",
              "      <td>Tiquete pago</td>\n",
              "    </tr>\n",
              "    <tr>\n",
              "      <th>6</th>\n",
              "      <td>5811678</td>\n",
              "      <td>SEBASTIAN VELASQUEZ POSADA</td>\n",
              "      <td>SEBASTIAN VELASQUEZ POSADA</td>\n",
              "      <td>FULLHOGAR</td>\n",
              "      <td>MBG26C</td>\n",
              "      <td>Motos</td>\n",
              "      <td>2018-11-01 07:51:58</td>\n",
              "      <td>07:51:58</td>\n",
              "      <td>2018-11-01 12:17:22</td>\n",
              "      <td>12:17:22</td>\n",
              "      <td>NaN</td>\n",
              "      <td>NaN</td>\n",
              "      <td>4h 25m 24s</td>\n",
              "      <td>4500</td>\n",
              "      <td>NaN</td>\n",
              "      <td>MOTOS ZER CALDAS</td>\n",
              "      <td>Tiquete pago</td>\n",
              "    </tr>\n",
              "    <tr>\n",
              "      <th>7</th>\n",
              "      <td>5811681</td>\n",
              "      <td>SEBASTIAN VELASQUEZ POSADA</td>\n",
              "      <td>SEBASTIAN VELASQUEZ POSADA</td>\n",
              "      <td>FULLHOGAR</td>\n",
              "      <td>PIX35E</td>\n",
              "      <td>Motos</td>\n",
              "      <td>2018-11-01 07:52:37</td>\n",
              "      <td>07:52:37</td>\n",
              "      <td>2018-11-01 20:58:23</td>\n",
              "      <td>20:58:23</td>\n",
              "      <td>NaN</td>\n",
              "      <td>NaN</td>\n",
              "      <td>13h 5m 46s</td>\n",
              "      <td>11250</td>\n",
              "      <td>NaN</td>\n",
              "      <td>MOTOS ZER CALDAS</td>\n",
              "      <td>Tiquete pago</td>\n",
              "    </tr>\n",
              "  </tbody>\n",
              "</table>\n",
              "</div>"
            ],
            "text/plain": [
              "   Id Registro            Operador ingreso  ...            Tarifa Estado factura\n",
              "3      5811677  SEBASTIAN VELASQUEZ POSADA  ...  MOTOS ZER CALDAS   Tiquete pago\n",
              "4      5811679  SEBASTIAN VELASQUEZ POSADA  ...  MOTOS ZER CALDAS   Tiquete pago\n",
              "5      5811680  SEBASTIAN VELASQUEZ POSADA  ...  MOTOS ZER CALDAS   Tiquete pago\n",
              "6      5811678  SEBASTIAN VELASQUEZ POSADA  ...  MOTOS ZER CALDAS   Tiquete pago\n",
              "7      5811681  SEBASTIAN VELASQUEZ POSADA  ...  MOTOS ZER CALDAS   Tiquete pago\n",
              "\n",
              "[5 rows x 17 columns]"
            ]
          },
          "metadata": {
            "tags": []
          },
          "execution_count": 8
        }
      ]
    },
    {
      "cell_type": "code",
      "metadata": {
        "colab": {
          "base_uri": "https://localhost:8080/",
          "height": 198
        },
        "id": "MymoSZRBMjoy",
        "outputId": "608c269c-8a08-48bf-b41f-b70545e1e436"
      },
      "source": [
        "##Limpieza\n",
        "dtf=dtf[['Fecha ingreso','Fecha salida']]\n",
        "dtf.head()"
      ],
      "execution_count": null,
      "outputs": [
        {
          "output_type": "execute_result",
          "data": {
            "text/html": [
              "<div>\n",
              "<style scoped>\n",
              "    .dataframe tbody tr th:only-of-type {\n",
              "        vertical-align: middle;\n",
              "    }\n",
              "\n",
              "    .dataframe tbody tr th {\n",
              "        vertical-align: top;\n",
              "    }\n",
              "\n",
              "    .dataframe thead th {\n",
              "        text-align: right;\n",
              "    }\n",
              "</style>\n",
              "<table border=\"1\" class=\"dataframe\">\n",
              "  <thead>\n",
              "    <tr style=\"text-align: right;\">\n",
              "      <th></th>\n",
              "      <th>Fecha ingreso</th>\n",
              "      <th>Fecha salida</th>\n",
              "    </tr>\n",
              "  </thead>\n",
              "  <tbody>\n",
              "    <tr>\n",
              "      <th>3</th>\n",
              "      <td>2018-11-01 07:46:34</td>\n",
              "      <td>2018-11-01 12:12:11</td>\n",
              "    </tr>\n",
              "    <tr>\n",
              "      <th>4</th>\n",
              "      <td>2018-11-01 07:48:15</td>\n",
              "      <td>2018-11-01 20:58:34</td>\n",
              "    </tr>\n",
              "    <tr>\n",
              "      <th>5</th>\n",
              "      <td>2018-11-01 07:51:18</td>\n",
              "      <td>2018-11-01 20:58:09</td>\n",
              "    </tr>\n",
              "    <tr>\n",
              "      <th>6</th>\n",
              "      <td>2018-11-01 07:51:58</td>\n",
              "      <td>2018-11-01 12:17:22</td>\n",
              "    </tr>\n",
              "    <tr>\n",
              "      <th>7</th>\n",
              "      <td>2018-11-01 07:52:37</td>\n",
              "      <td>2018-11-01 20:58:23</td>\n",
              "    </tr>\n",
              "  </tbody>\n",
              "</table>\n",
              "</div>"
            ],
            "text/plain": [
              "         Fecha ingreso         Fecha salida\n",
              "3  2018-11-01 07:46:34  2018-11-01 12:12:11\n",
              "4  2018-11-01 07:48:15  2018-11-01 20:58:34\n",
              "5  2018-11-01 07:51:18  2018-11-01 20:58:09\n",
              "6  2018-11-01 07:51:58  2018-11-01 12:17:22\n",
              "7  2018-11-01 07:52:37  2018-11-01 20:58:23"
            ]
          },
          "metadata": {
            "tags": []
          },
          "execution_count": 9
        }
      ]
    },
    {
      "cell_type": "code",
      "metadata": {
        "colab": {
          "base_uri": "https://localhost:8080/",
          "height": 198
        },
        "id": "DuvZUKo2NDs0",
        "outputId": "4df3215c-c433-4b16-a70d-6c07f5386707"
      },
      "source": [
        "dtf[\"Fecha ingreso\"] = pd.to_datetime(dtf['Fecha ingreso'], format='%Y-%m-%d %H:%M:%S')\n",
        "dtf[\"Fecha salida\"] = pd.to_datetime(dtf['Fecha salida'], format='%Y-%m-%d %H:%M:%S')\n",
        "dtf.head()"
      ],
      "execution_count": null,
      "outputs": [
        {
          "output_type": "execute_result",
          "data": {
            "text/html": [
              "<div>\n",
              "<style scoped>\n",
              "    .dataframe tbody tr th:only-of-type {\n",
              "        vertical-align: middle;\n",
              "    }\n",
              "\n",
              "    .dataframe tbody tr th {\n",
              "        vertical-align: top;\n",
              "    }\n",
              "\n",
              "    .dataframe thead th {\n",
              "        text-align: right;\n",
              "    }\n",
              "</style>\n",
              "<table border=\"1\" class=\"dataframe\">\n",
              "  <thead>\n",
              "    <tr style=\"text-align: right;\">\n",
              "      <th></th>\n",
              "      <th>Fecha ingreso</th>\n",
              "      <th>Fecha salida</th>\n",
              "    </tr>\n",
              "  </thead>\n",
              "  <tbody>\n",
              "    <tr>\n",
              "      <th>3</th>\n",
              "      <td>2018-11-01 07:46:34</td>\n",
              "      <td>2018-11-01 12:12:11</td>\n",
              "    </tr>\n",
              "    <tr>\n",
              "      <th>4</th>\n",
              "      <td>2018-11-01 07:48:15</td>\n",
              "      <td>2018-11-01 20:58:34</td>\n",
              "    </tr>\n",
              "    <tr>\n",
              "      <th>5</th>\n",
              "      <td>2018-11-01 07:51:18</td>\n",
              "      <td>2018-11-01 20:58:09</td>\n",
              "    </tr>\n",
              "    <tr>\n",
              "      <th>6</th>\n",
              "      <td>2018-11-01 07:51:58</td>\n",
              "      <td>2018-11-01 12:17:22</td>\n",
              "    </tr>\n",
              "    <tr>\n",
              "      <th>7</th>\n",
              "      <td>2018-11-01 07:52:37</td>\n",
              "      <td>2018-11-01 20:58:23</td>\n",
              "    </tr>\n",
              "  </tbody>\n",
              "</table>\n",
              "</div>"
            ],
            "text/plain": [
              "        Fecha ingreso        Fecha salida\n",
              "3 2018-11-01 07:46:34 2018-11-01 12:12:11\n",
              "4 2018-11-01 07:48:15 2018-11-01 20:58:34\n",
              "5 2018-11-01 07:51:18 2018-11-01 20:58:09\n",
              "6 2018-11-01 07:51:58 2018-11-01 12:17:22\n",
              "7 2018-11-01 07:52:37 2018-11-01 20:58:23"
            ]
          },
          "metadata": {
            "tags": []
          },
          "execution_count": 10
        }
      ]
    },
    {
      "cell_type": "code",
      "metadata": {
        "colab": {
          "base_uri": "https://localhost:8080/",
          "height": 228
        },
        "id": "oiBo6UicONsa",
        "outputId": "17a25983-e4df-465f-a83c-74cb4579247a"
      },
      "source": [
        "dtfI=pd.DataFrame()\n",
        "dtfI['Fecha']=dtf['Fecha ingreso']\n",
        "dtfI['conteo']=1\n",
        "dtfI.set_index('Fecha',inplace=True)\n",
        "dtfI.head()"
      ],
      "execution_count": null,
      "outputs": [
        {
          "output_type": "execute_result",
          "data": {
            "text/html": [
              "<div>\n",
              "<style scoped>\n",
              "    .dataframe tbody tr th:only-of-type {\n",
              "        vertical-align: middle;\n",
              "    }\n",
              "\n",
              "    .dataframe tbody tr th {\n",
              "        vertical-align: top;\n",
              "    }\n",
              "\n",
              "    .dataframe thead th {\n",
              "        text-align: right;\n",
              "    }\n",
              "</style>\n",
              "<table border=\"1\" class=\"dataframe\">\n",
              "  <thead>\n",
              "    <tr style=\"text-align: right;\">\n",
              "      <th></th>\n",
              "      <th>conteo</th>\n",
              "    </tr>\n",
              "    <tr>\n",
              "      <th>Fecha</th>\n",
              "      <th></th>\n",
              "    </tr>\n",
              "  </thead>\n",
              "  <tbody>\n",
              "    <tr>\n",
              "      <th>2018-11-01 07:46:34</th>\n",
              "      <td>1</td>\n",
              "    </tr>\n",
              "    <tr>\n",
              "      <th>2018-11-01 07:48:15</th>\n",
              "      <td>1</td>\n",
              "    </tr>\n",
              "    <tr>\n",
              "      <th>2018-11-01 07:51:18</th>\n",
              "      <td>1</td>\n",
              "    </tr>\n",
              "    <tr>\n",
              "      <th>2018-11-01 07:51:58</th>\n",
              "      <td>1</td>\n",
              "    </tr>\n",
              "    <tr>\n",
              "      <th>2018-11-01 07:52:37</th>\n",
              "      <td>1</td>\n",
              "    </tr>\n",
              "  </tbody>\n",
              "</table>\n",
              "</div>"
            ],
            "text/plain": [
              "                     conteo\n",
              "Fecha                      \n",
              "2018-11-01 07:46:34       1\n",
              "2018-11-01 07:48:15       1\n",
              "2018-11-01 07:51:18       1\n",
              "2018-11-01 07:51:58       1\n",
              "2018-11-01 07:52:37       1"
            ]
          },
          "metadata": {
            "tags": []
          },
          "execution_count": 11
        }
      ]
    },
    {
      "cell_type": "code",
      "metadata": {
        "colab": {
          "base_uri": "https://localhost:8080/",
          "height": 228
        },
        "id": "d6LDfBQrP8Os",
        "outputId": "8f0c0dad-f639-476b-a05e-f7564e36b47d"
      },
      "source": [
        "dtfS=pd.DataFrame()\n",
        "dtfS['Fecha']=dtf['Fecha salida']\n",
        "dtfS['conteo']=-1\n",
        "dtfS.set_index('Fecha',inplace=True)\n",
        "dtfS.head()"
      ],
      "execution_count": null,
      "outputs": [
        {
          "output_type": "execute_result",
          "data": {
            "text/html": [
              "<div>\n",
              "<style scoped>\n",
              "    .dataframe tbody tr th:only-of-type {\n",
              "        vertical-align: middle;\n",
              "    }\n",
              "\n",
              "    .dataframe tbody tr th {\n",
              "        vertical-align: top;\n",
              "    }\n",
              "\n",
              "    .dataframe thead th {\n",
              "        text-align: right;\n",
              "    }\n",
              "</style>\n",
              "<table border=\"1\" class=\"dataframe\">\n",
              "  <thead>\n",
              "    <tr style=\"text-align: right;\">\n",
              "      <th></th>\n",
              "      <th>conteo</th>\n",
              "    </tr>\n",
              "    <tr>\n",
              "      <th>Fecha</th>\n",
              "      <th></th>\n",
              "    </tr>\n",
              "  </thead>\n",
              "  <tbody>\n",
              "    <tr>\n",
              "      <th>2018-11-01 12:12:11</th>\n",
              "      <td>-1</td>\n",
              "    </tr>\n",
              "    <tr>\n",
              "      <th>2018-11-01 20:58:34</th>\n",
              "      <td>-1</td>\n",
              "    </tr>\n",
              "    <tr>\n",
              "      <th>2018-11-01 20:58:09</th>\n",
              "      <td>-1</td>\n",
              "    </tr>\n",
              "    <tr>\n",
              "      <th>2018-11-01 12:17:22</th>\n",
              "      <td>-1</td>\n",
              "    </tr>\n",
              "    <tr>\n",
              "      <th>2018-11-01 20:58:23</th>\n",
              "      <td>-1</td>\n",
              "    </tr>\n",
              "  </tbody>\n",
              "</table>\n",
              "</div>"
            ],
            "text/plain": [
              "                     conteo\n",
              "Fecha                      \n",
              "2018-11-01 12:12:11      -1\n",
              "2018-11-01 20:58:34      -1\n",
              "2018-11-01 20:58:09      -1\n",
              "2018-11-01 12:17:22      -1\n",
              "2018-11-01 20:58:23      -1"
            ]
          },
          "metadata": {
            "tags": []
          },
          "execution_count": 12
        }
      ]
    },
    {
      "cell_type": "code",
      "metadata": {
        "colab": {
          "base_uri": "https://localhost:8080/",
          "height": 345
        },
        "id": "Ui1WpLYjQNnG",
        "outputId": "f49c7f1f-cd86-4b21-ec75-06e8c3d05f8e"
      },
      "source": [
        "dt=pd.concat([dtfI,dtfS])\n",
        "dt.sort_index(inplace=True)\n",
        "dt['Cont']=dt['conteo'].cumsum()\n",
        "dt=dt[['Cont']]\n",
        "dt.plot(figsize=(15,5))\n"
      ],
      "execution_count": null,
      "outputs": [
        {
          "output_type": "execute_result",
          "data": {
            "text/plain": [
              "<matplotlib.axes._subplots.AxesSubplot at 0x7f3a6d045c88>"
            ]
          },
          "metadata": {
            "tags": []
          },
          "execution_count": 13
        },
        {
          "output_type": "display_data",
          "data": {
            "image/png": "[encoded data removed]",
            "text/plain": [
              "<Figure size 1080x360 with 1 Axes>"
            ]
          },
          "metadata": {
            "tags": [],
            "needs_background": "light"
          }
        }
      ]
    },
    {
      "cell_type": "code",
      "metadata": {
        "colab": {
          "base_uri": "https://localhost:8080/",
          "height": 228
        },
        "id": "PDVVZtlYz6vY",
        "outputId": "359fb6ad-8a9a-4ec6-d6e2-7d20469bb2d4"
      },
      "source": [
        "dt.head()"
      ],
      "execution_count": null,
      "outputs": [
        {
          "output_type": "execute_result",
          "data": {
            "text/html": [
              "<div>\n",
              "<style scoped>\n",
              "    .dataframe tbody tr th:only-of-type {\n",
              "        vertical-align: middle;\n",
              "    }\n",
              "\n",
              "    .dataframe tbody tr th {\n",
              "        vertical-align: top;\n",
              "    }\n",
              "\n",
              "    .dataframe thead th {\n",
              "        text-align: right;\n",
              "    }\n",
              "</style>\n",
              "<table border=\"1\" class=\"dataframe\">\n",
              "  <thead>\n",
              "    <tr style=\"text-align: right;\">\n",
              "      <th></th>\n",
              "      <th>Cont</th>\n",
              "    </tr>\n",
              "    <tr>\n",
              "      <th>Fecha</th>\n",
              "      <th></th>\n",
              "    </tr>\n",
              "  </thead>\n",
              "  <tbody>\n",
              "    <tr>\n",
              "      <th>2018-11-01 07:46:34</th>\n",
              "      <td>1</td>\n",
              "    </tr>\n",
              "    <tr>\n",
              "      <th>2018-11-01 07:48:15</th>\n",
              "      <td>2</td>\n",
              "    </tr>\n",
              "    <tr>\n",
              "      <th>2018-11-01 07:51:18</th>\n",
              "      <td>3</td>\n",
              "    </tr>\n",
              "    <tr>\n",
              "      <th>2018-11-01 07:51:58</th>\n",
              "      <td>4</td>\n",
              "    </tr>\n",
              "    <tr>\n",
              "      <th>2018-11-01 07:52:37</th>\n",
              "      <td>5</td>\n",
              "    </tr>\n",
              "  </tbody>\n",
              "</table>\n",
              "</div>"
            ],
            "text/plain": [
              "                     Cont\n",
              "Fecha                    \n",
              "2018-11-01 07:46:34     1\n",
              "2018-11-01 07:48:15     2\n",
              "2018-11-01 07:51:18     3\n",
              "2018-11-01 07:51:58     4\n",
              "2018-11-01 07:52:37     5"
            ]
          },
          "metadata": {
            "tags": []
          },
          "execution_count": 15
        }
      ]
    },
    {
      "cell_type": "markdown",
      "metadata": {
        "id": "rx5CTUXp3caY"
      },
      "source": [
        "#Pasar datos a un excel"
      ]
    },
    {
      "cell_type": "code",
      "metadata": {
        "id": "bhi9mF0l0nsM"
      },
      "source": [
        "#Data ocuapción por registros\n",
        "import pandas as pd\n",
        "\n",
        "toexcl = dt.reset_index()\n",
        "\n",
        "toexcl.to_excel ('/content/Data.xlsx', index = False, header=True)"
      ],
      "execution_count": null,
      "outputs": []
    },
    {
      "cell_type": "code",
      "metadata": {
        "colab": {
          "base_uri": "https://localhost:8080/",
          "height": 607
        },
        "id": "7TGpByes8eLk",
        "outputId": "8f886f80-57b7-4abe-add9-a5e52fe7c19a"
      },
      "source": [
        "#Data ocupacion por minutos\n",
        "#Transformar base a minutos\n",
        "toexclmin=dt.copy()\n",
        "toexclmin=toexclmin.resample('T').last().bfill()\n",
        "toexclmin.iloc[:3600,:].plot()\n",
        "#a excel\n",
        "\n",
        "\n",
        "toexclmin.to_excel ('/content/Data.xlsx', index = False, header=True)\n",
        "toexclmin.iloc[:3600,:].plot()"
      ],
      "execution_count": null,
      "outputs": [
        {
          "output_type": "execute_result",
          "data": {
            "text/plain": [
              "<matplotlib.axes._subplots.AxesSubplot at 0x7f5a12bf4518>"
            ]
          },
          "metadata": {
            "tags": []
          },
          "execution_count": 25
        },
        {
          "output_type": "display_data",
          "data": {
            "image/png": "[encoded data removed]",
            "text/plain": [
              "<Figure size 432x288 with 1 Axes>"
            ]
          },
          "metadata": {
            "tags": [],
            "needs_background": "light"
          }
        },
        {
          "output_type": "display_data",
          "data": {
            "image/png": "[encoded data removed]",
            "text/plain": [
              "<Figure size 432x288 with 1 Axes>"
            ]
          },
          "metadata": {
            "tags": [],
            "needs_background": "light"
          }
        }
      ]
    },
    {
      "cell_type": "markdown",
      "metadata": {
        "id": "jLqkaP2zSVyA"
      },
      "source": [
        "#Visualización"
      ]
    },
    {
      "cell_type": "code",
      "metadata": {
        "id": "MmSYQ6BnvcAk"
      },
      "source": [
        "#Usar en caso de querer cargar una nueva base de datos\n",
        "# format datetime column\n",
        "#dtf[\"date\"] = pd.to_datetime(dtf['Fecha'], format='%d.%m.%Y')\n",
        "## create time series#\n",
        "##ts = dtf.groupby(\"date\")[\"Ocupación\"].sum().rename(\"ocupa\")\n",
        "#ts.head()"
      ],
      "execution_count": null,
      "outputs": []
    },
    {
      "cell_type": "code",
      "metadata": {
        "colab": {
          "base_uri": "https://localhost:8080/"
        },
        "id": "amnidytswAfG",
        "outputId": "0b42e078-95b6-41bc-bd2f-7692626fc192"
      },
      "source": [
        "#ts.tail()"
      ],
      "execution_count": null,
      "outputs": [
        {
          "output_type": "execute_result",
          "data": {
            "text/plain": [
              "date\n",
              "2020-03-20 16:53:05    4.0\n",
              "2020-03-20 16:58:57    3.0\n",
              "2020-03-20 17:11:08    2.0\n",
              "2020-03-20 17:33:49    1.0\n",
              "2020-03-20 17:37:22    0.0\n",
              "Name: ocupa, dtype: float64"
            ]
          },
          "metadata": {
            "tags": []
          },
          "execution_count": 85
        }
      ]
    },
    {
      "cell_type": "code",
      "metadata": {
        "colab": {
          "base_uri": "https://localhost:8080/"
        },
        "id": "jE-wDYbUwMkN",
        "outputId": "982f25a3-e545-4ab2-d768-08466e6ba7e4"
      },
      "source": [
        "##print(\"population --> len:\", len(ts), \"| mean:\", round(ts.mean()), \" | std:\", round(ts.std()))\n",
        "#w = 30\n",
        "#print(\"moving --> len:\", w, \" | mean:\", round(ts.ewm(span=w).mean()[-1]), \" | std:\", round(ts.ewm(span=w).std()[-1]))"
      ],
      "execution_count": null,
      "outputs": [
        {
          "output_type": "stream",
          "text": [
            "population --> len: 31494 | mean: 7  | std: 6\n",
            "moving --> len: 30  | mean: 4.0  | std: 2.0\n"
          ],
          "name": "stdout"
        }
      ]
    },
    {
      "cell_type": "code",
      "metadata": {
        "colab": {
          "base_uri": "https://localhost:8080/",
          "height": 586
        },
        "id": "vTKBP51mwN5F",
        "outputId": "299e42a9-c228-4bb3-e2ca-a896e7ea3bec"
      },
      "source": [
        "from matplotlib import pyplot\n",
        "dt.plot()\n",
        "dt.plot(figsize=(15,5))\n",
        "pyplot.show()"
      ],
      "execution_count": null,
      "outputs": [
        {
          "output_type": "display_data",
          "data": {
            "image/png": "[encoded data removed]",
            "text/plain": [
              "<Figure size 432x288 with 1 Axes>"
            ]
          },
          "metadata": {
            "tags": [],
            "needs_background": "light"
          }
        },
        {
          "output_type": "display_data",
          "data": {
            "image/png": "[encoded data removed]",
            "text/plain": [
              "<Figure size 1080x360 with 1 Axes>"
            ]
          },
          "metadata": {
            "tags": [],
            "needs_background": "light"
          }
        }
      ]
    },
    {
      "cell_type": "code",
      "metadata": {
        "colab": {
          "base_uri": "https://localhost:8080/",
          "height": 295
        },
        "id": "u7vfJN4B2JIC",
        "outputId": "0f777e1d-5be3-4a1d-d36e-e80164afd507"
      },
      "source": [
        "dt.plot(style='k.')\n"
      ],
      "execution_count": null,
      "outputs": [
        {
          "output_type": "execute_result",
          "data": {
            "text/plain": [
              "<matplotlib.axes._subplots.AxesSubplot at 0x7ff08db4ff98>"
            ]
          },
          "metadata": {
            "tags": []
          },
          "execution_count": 40
        },
        {
          "output_type": "display_data",
          "data": {
            "image/png": "[encoded data removed]",
            "text/plain": [
              "<Figure size 432x288 with 1 Axes>"
            ]
          },
          "metadata": {
            "tags": []
          }
        }
      ]
    },
    {
      "cell_type": "code",
      "metadata": {
        "colab": {
          "base_uri": "https://localhost:8080/",
          "height": 265
        },
        "id": "YEr9h86I2US-",
        "outputId": "81eb3907-0c88-40ec-bee6-5b07c083e99f"
      },
      "source": [
        "dt.plot(kind='kde')\n",
        "pyplot.show()"
      ],
      "execution_count": null,
      "outputs": [
        {
          "output_type": "display_data",
          "data": {
            "image/png": "[encoded data removed]",
            "text/plain": [
              "<Figure size 432x288 with 1 Axes>"
            ]
          },
          "metadata": {
            "tags": []
          }
        }
      ]
    },
    {
      "cell_type": "code",
      "metadata": {
        "colab": {
          "base_uri": "https://localhost:8080/",
          "height": 265
        },
        "id": "3ZdfW3HG2vLx",
        "outputId": "b033ffe3-64bc-43d8-e099-a1b65da87d14"
      },
      "source": [
        "from pandas import DataFrame\n",
        "from pandas import Grouper\n",
        "from matplotlib import pyplot\n",
        "from pandas import concat\n",
        "groups = dt.groupby(Grouper(freq='M'))\n",
        "months = concat([DataFrame(x[1].values) for x in groups], axis=1)\n",
        "months = DataFrame(months)\n",
        "months.columns = range(1,18)\n",
        "months.boxplot()\n",
        "pyplot.show()"
      ],
      "execution_count": null,
      "outputs": [
        {
          "output_type": "display_data",
          "data": {
            "image/png": "[encoded data removed]",
            "text/plain": [
              "<Figure size 432x288 with 1 Axes>"
            ]
          },
          "metadata": {
            "tags": [],
            "needs_background": "light"
          }
        }
      ]
    },
    {
      "cell_type": "markdown",
      "metadata": {
        "id": "DCco-mQrUqSj"
      },
      "source": [
        "#PyTorch Data Clima\n",
        "\n",
        "```\n",
        "# Esto tiene formato de código**\n",
        "```\n",
        "\n",
        "\n"
      ]
    },
    {
      "cell_type": "code",
      "metadata": {
        "colab": {
          "base_uri": "https://localhost:8080/",
          "height": 321
        },
        "id": "jeN5mb9PZG1g",
        "outputId": "964d9f7e-762c-4f83-cc73-6c33e7e5bb94"
      },
      "source": [
        "##Transformar base a minutos\n",
        "dtmin=dt.copy()\n",
        "dtmin=dtmin.resample('T').last().bfill()\n",
        "dtmin.iloc[:3600,:].plot()"
      ],
      "execution_count": null,
      "outputs": [
        {
          "output_type": "execute_result",
          "data": {
            "text/plain": [
              "<matplotlib.axes._subplots.AxesSubplot at 0x7f0f5c1f4780>"
            ]
          },
          "metadata": {
            "tags": []
          },
          "execution_count": 27
        },
        {
          "output_type": "display_data",
          "data": {
            "image/png": "[encoded data removed]",
            "text/plain": [
              "<Figure size 432x288 with 1 Axes>"
            ]
          },
          "metadata": {
            "tags": [],
            "needs_background": "light"
          }
        }
      ]
    },
    {
      "cell_type": "code",
      "metadata": {
        "colab": {
          "base_uri": "https://localhost:8080/",
          "height": 309
        },
        "id": "CQeNmlyeBCwm",
        "outputId": "6cdc38a5-f3cc-4f39-c4c6-a4c06880518a"
      },
      "source": [
        "##Transformar base a minutos\n",
        "dtmin=dt.copy()\n",
        "dtmin=dtmin.resample('T').last().bfill()\n",
        "dtmin.plot()"
      ],
      "execution_count": null,
      "outputs": [
        {
          "output_type": "execute_result",
          "data": {
            "text/plain": [
              "<matplotlib.axes._subplots.AxesSubplot at 0x7f2f3c1c5048>"
            ]
          },
          "metadata": {
            "tags": []
          },
          "execution_count": 23
        },
        {
          "output_type": "display_data",
          "data": {
            "image/png": "[encoded data removed]",
            "text/plain": [
              "<Figure size 432x288 with 1 Axes>"
            ]
          },
          "metadata": {
            "tags": [],
            "needs_background": "light"
          }
        }
      ]
    },
    {
      "cell_type": "code",
      "metadata": {
        "colab": {
          "base_uri": "https://localhost:8080/",
          "height": 228
        },
        "id": "MtW6EgfudTsF",
        "outputId": "91422121-8534-44e8-8dea-b69e96f5e79c"
      },
      "source": [
        "dtmin['diasem']=dtmin.index.to_series().dt.dayofweek\n",
        "dtmin.tail()"
      ],
      "execution_count": null,
      "outputs": [
        {
          "output_type": "execute_result",
          "data": {
            "text/html": [
              "<div>\n",
              "<style scoped>\n",
              "    .dataframe tbody tr th:only-of-type {\n",
              "        vertical-align: middle;\n",
              "    }\n",
              "\n",
              "    .dataframe tbody tr th {\n",
              "        vertical-align: top;\n",
              "    }\n",
              "\n",
              "    .dataframe thead th {\n",
              "        text-align: right;\n",
              "    }\n",
              "</style>\n",
              "<table border=\"1\" class=\"dataframe\">\n",
              "  <thead>\n",
              "    <tr style=\"text-align: right;\">\n",
              "      <th></th>\n",
              "      <th>Cont</th>\n",
              "      <th>diasem</th>\n",
              "    </tr>\n",
              "    <tr>\n",
              "      <th>Fecha</th>\n",
              "      <th></th>\n",
              "      <th></th>\n",
              "    </tr>\n",
              "  </thead>\n",
              "  <tbody>\n",
              "    <tr>\n",
              "      <th>2020-03-20 17:33:00</th>\n",
              "      <td>1.0</td>\n",
              "      <td>4</td>\n",
              "    </tr>\n",
              "    <tr>\n",
              "      <th>2020-03-20 17:34:00</th>\n",
              "      <td>0.0</td>\n",
              "      <td>4</td>\n",
              "    </tr>\n",
              "    <tr>\n",
              "      <th>2020-03-20 17:35:00</th>\n",
              "      <td>0.0</td>\n",
              "      <td>4</td>\n",
              "    </tr>\n",
              "    <tr>\n",
              "      <th>2020-03-20 17:36:00</th>\n",
              "      <td>0.0</td>\n",
              "      <td>4</td>\n",
              "    </tr>\n",
              "    <tr>\n",
              "      <th>2020-03-20 17:37:00</th>\n",
              "      <td>0.0</td>\n",
              "      <td>4</td>\n",
              "    </tr>\n",
              "  </tbody>\n",
              "</table>\n",
              "</div>"
            ],
            "text/plain": [
              "                     Cont  diasem\n",
              "Fecha                            \n",
              "2020-03-20 17:33:00   1.0       4\n",
              "2020-03-20 17:34:00   0.0       4\n",
              "2020-03-20 17:35:00   0.0       4\n",
              "2020-03-20 17:36:00   0.0       4\n",
              "2020-03-20 17:37:00   0.0       4"
            ]
          },
          "metadata": {
            "tags": []
          },
          "execution_count": 24
        }
      ]
    },
    {
      "cell_type": "code",
      "metadata": {
        "colab": {
          "base_uri": "https://localhost:8080/"
        },
        "id": "DuRp4F1lap6O",
        "outputId": "34645ec4-1f6e-4f85-ec2f-b6c4f0f5a4e1"
      },
      "source": [
        "##Incluir festivos\n",
        "Fest = pd.read_excel('/content/drive/My Drive/colab bases/festivosCol2018-2020.xlsx')\n",
        "Fest['Festivos']=pd.to_datetime(Fest['Festivos'])\n",
        "Fest.dtypes\n"
      ],
      "execution_count": null,
      "outputs": [
        {
          "output_type": "execute_result",
          "data": {
            "text/plain": [
              "Festivos    datetime64[ns]\n",
              "dtype: object"
            ]
          },
          "metadata": {
            "tags": []
          },
          "execution_count": 25
        }
      ]
    },
    {
      "cell_type": "code",
      "metadata": {
        "colab": {
          "base_uri": "https://localhost:8080/",
          "height": 565
        },
        "id": "0jvJXEfriHef",
        "outputId": "7e7b0076-efab-4a64-c802-0ca937c51e7e"
      },
      "source": [
        "dtmin['Festivo']=0\n",
        "dtmin['Festivo'][dtmin.index.to_series().dt.date.isin(Fest['Festivos'].dt.date)]=1\n",
        "dtmin[dtmin['Festivo']==1]"
      ],
      "execution_count": null,
      "outputs": [
        {
          "output_type": "stream",
          "text": [
            "/usr/local/lib/python3.6/dist-packages/ipykernel_launcher.py:2: SettingWithCopyWarning:\n",
            "\n",
            "\n",
            "A value is trying to be set on a copy of a slice from a DataFrame\n",
            "\n",
            "See the caveats in the documentation: https://pandas.pydata.org/pandas-docs/stable/user_guide/indexing.html#returning-a-view-versus-a-copy\n",
            "\n"
          ],
          "name": "stderr"
        },
        {
          "output_type": "execute_result",
          "data": {
            "text/html": [
              "<div>\n",
              "<style scoped>\n",
              "    .dataframe tbody tr th:only-of-type {\n",
              "        vertical-align: middle;\n",
              "    }\n",
              "\n",
              "    .dataframe tbody tr th {\n",
              "        vertical-align: top;\n",
              "    }\n",
              "\n",
              "    .dataframe thead th {\n",
              "        text-align: right;\n",
              "    }\n",
              "</style>\n",
              "<table border=\"1\" class=\"dataframe\">\n",
              "  <thead>\n",
              "    <tr style=\"text-align: right;\">\n",
              "      <th></th>\n",
              "      <th>Cont</th>\n",
              "      <th>diasem</th>\n",
              "      <th>Festivo</th>\n",
              "    </tr>\n",
              "    <tr>\n",
              "      <th>Fecha</th>\n",
              "      <th></th>\n",
              "      <th></th>\n",
              "      <th></th>\n",
              "    </tr>\n",
              "  </thead>\n",
              "  <tbody>\n",
              "    <tr>\n",
              "      <th>2018-11-05 00:00:00</th>\n",
              "      <td>1.0</td>\n",
              "      <td>0</td>\n",
              "      <td>1</td>\n",
              "    </tr>\n",
              "    <tr>\n",
              "      <th>2018-11-05 00:01:00</th>\n",
              "      <td>1.0</td>\n",
              "      <td>0</td>\n",
              "      <td>1</td>\n",
              "    </tr>\n",
              "    <tr>\n",
              "      <th>2018-11-05 00:02:00</th>\n",
              "      <td>1.0</td>\n",
              "      <td>0</td>\n",
              "      <td>1</td>\n",
              "    </tr>\n",
              "    <tr>\n",
              "      <th>2018-11-05 00:03:00</th>\n",
              "      <td>1.0</td>\n",
              "      <td>0</td>\n",
              "      <td>1</td>\n",
              "    </tr>\n",
              "    <tr>\n",
              "      <th>2018-11-05 00:04:00</th>\n",
              "      <td>1.0</td>\n",
              "      <td>0</td>\n",
              "      <td>1</td>\n",
              "    </tr>\n",
              "    <tr>\n",
              "      <th>...</th>\n",
              "      <td>...</td>\n",
              "      <td>...</td>\n",
              "      <td>...</td>\n",
              "    </tr>\n",
              "    <tr>\n",
              "      <th>2020-02-24 23:55:00</th>\n",
              "      <td>1.0</td>\n",
              "      <td>0</td>\n",
              "      <td>1</td>\n",
              "    </tr>\n",
              "    <tr>\n",
              "      <th>2020-02-24 23:56:00</th>\n",
              "      <td>1.0</td>\n",
              "      <td>0</td>\n",
              "      <td>1</td>\n",
              "    </tr>\n",
              "    <tr>\n",
              "      <th>2020-02-24 23:57:00</th>\n",
              "      <td>1.0</td>\n",
              "      <td>0</td>\n",
              "      <td>1</td>\n",
              "    </tr>\n",
              "    <tr>\n",
              "      <th>2020-02-24 23:58:00</th>\n",
              "      <td>1.0</td>\n",
              "      <td>0</td>\n",
              "      <td>1</td>\n",
              "    </tr>\n",
              "    <tr>\n",
              "      <th>2020-02-24 23:59:00</th>\n",
              "      <td>1.0</td>\n",
              "      <td>0</td>\n",
              "      <td>1</td>\n",
              "    </tr>\n",
              "  </tbody>\n",
              "</table>\n",
              "<p>30240 rows × 3 columns</p>\n",
              "</div>"
            ],
            "text/plain": [
              "                     Cont  diasem  Festivo\n",
              "Fecha                                     \n",
              "2018-11-05 00:00:00   1.0       0        1\n",
              "2018-11-05 00:01:00   1.0       0        1\n",
              "2018-11-05 00:02:00   1.0       0        1\n",
              "2018-11-05 00:03:00   1.0       0        1\n",
              "2018-11-05 00:04:00   1.0       0        1\n",
              "...                   ...     ...      ...\n",
              "2020-02-24 23:55:00   1.0       0        1\n",
              "2020-02-24 23:56:00   1.0       0        1\n",
              "2020-02-24 23:57:00   1.0       0        1\n",
              "2020-02-24 23:58:00   1.0       0        1\n",
              "2020-02-24 23:59:00   1.0       0        1\n",
              "\n",
              "[30240 rows x 3 columns]"
            ]
          },
          "metadata": {
            "tags": []
          },
          "execution_count": 26
        }
      ]
    },
    {
      "cell_type": "code",
      "metadata": {
        "colab": {
          "base_uri": "https://localhost:8080/",
          "height": 228
        },
        "id": "QfGfkQNqkPWH",
        "outputId": "8dbdc1ae-9bac-4071-f11a-9f799608660d"
      },
      "source": [
        "#Clima\n",
        "Clima = pd.read_excel('/content/drive/My Drive/colab bases/Meteorológico.xlsx')\n",
        "Clima = Clima[['Fecha','Valor']]\n",
        "Clima['Fecha']=pd.to_datetime(Clima['Fecha']).dt.date\n",
        "Clima.set_index('Fecha',inplace=True)\n",
        "Clima.head()"
      ],
      "execution_count": null,
      "outputs": [
        {
          "output_type": "execute_result",
          "data": {
            "text/html": [
              "<div>\n",
              "<style scoped>\n",
              "    .dataframe tbody tr th:only-of-type {\n",
              "        vertical-align: middle;\n",
              "    }\n",
              "\n",
              "    .dataframe tbody tr th {\n",
              "        vertical-align: top;\n",
              "    }\n",
              "\n",
              "    .dataframe thead th {\n",
              "        text-align: right;\n",
              "    }\n",
              "</style>\n",
              "<table border=\"1\" class=\"dataframe\">\n",
              "  <thead>\n",
              "    <tr style=\"text-align: right;\">\n",
              "      <th></th>\n",
              "      <th>Valor</th>\n",
              "    </tr>\n",
              "    <tr>\n",
              "      <th>Fecha</th>\n",
              "      <th></th>\n",
              "    </tr>\n",
              "  </thead>\n",
              "  <tbody>\n",
              "    <tr>\n",
              "      <th>2018-08-25</th>\n",
              "      <td>1</td>\n",
              "    </tr>\n",
              "    <tr>\n",
              "      <th>2018-08-26</th>\n",
              "      <td>10</td>\n",
              "    </tr>\n",
              "    <tr>\n",
              "      <th>2018-08-27</th>\n",
              "      <td>3</td>\n",
              "    </tr>\n",
              "    <tr>\n",
              "      <th>2018-08-28</th>\n",
              "      <td>23</td>\n",
              "    </tr>\n",
              "    <tr>\n",
              "      <th>2018-08-29</th>\n",
              "      <td>5</td>\n",
              "    </tr>\n",
              "  </tbody>\n",
              "</table>\n",
              "</div>"
            ],
            "text/plain": [
              "            Valor\n",
              "Fecha            \n",
              "2018-08-25      1\n",
              "2018-08-26     10\n",
              "2018-08-27      3\n",
              "2018-08-28     23\n",
              "2018-08-29      5"
            ]
          },
          "metadata": {
            "tags": []
          },
          "execution_count": 27
        }
      ]
    },
    {
      "cell_type": "code",
      "metadata": {
        "colab": {
          "base_uri": "https://localhost:8080/",
          "height": 228
        },
        "id": "iRtdYpbilhxz",
        "outputId": "d4485952-fc74-474b-842b-0aa97e1ef2ea"
      },
      "source": [
        "dtmin['Fecha1'] = dtmin.index.to_series().dt.date\n",
        "base = dtmin.join(Clima,on='Fecha1',how='left')\n",
        "base= base[['Cont','diasem','Festivo','Valor']]\n",
        "base['hora'] = base.index.to_series().dt.hour\n",
        "base.tail()"
      ],
      "execution_count": null,
      "outputs": [
        {
          "output_type": "execute_result",
          "data": {
            "text/html": [
              "<div>\n",
              "<style scoped>\n",
              "    .dataframe tbody tr th:only-of-type {\n",
              "        vertical-align: middle;\n",
              "    }\n",
              "\n",
              "    .dataframe tbody tr th {\n",
              "        vertical-align: top;\n",
              "    }\n",
              "\n",
              "    .dataframe thead th {\n",
              "        text-align: right;\n",
              "    }\n",
              "</style>\n",
              "<table border=\"1\" class=\"dataframe\">\n",
              "  <thead>\n",
              "    <tr style=\"text-align: right;\">\n",
              "      <th></th>\n",
              "      <th>Cont</th>\n",
              "      <th>diasem</th>\n",
              "      <th>Festivo</th>\n",
              "      <th>Valor</th>\n",
              "      <th>hora</th>\n",
              "    </tr>\n",
              "    <tr>\n",
              "      <th>Fecha</th>\n",
              "      <th></th>\n",
              "      <th></th>\n",
              "      <th></th>\n",
              "      <th></th>\n",
              "      <th></th>\n",
              "    </tr>\n",
              "  </thead>\n",
              "  <tbody>\n",
              "    <tr>\n",
              "      <th>2020-03-20 17:33:00</th>\n",
              "      <td>1.0</td>\n",
              "      <td>4</td>\n",
              "      <td>0</td>\n",
              "      <td>4</td>\n",
              "      <td>17</td>\n",
              "    </tr>\n",
              "    <tr>\n",
              "      <th>2020-03-20 17:34:00</th>\n",
              "      <td>0.0</td>\n",
              "      <td>4</td>\n",
              "      <td>0</td>\n",
              "      <td>4</td>\n",
              "      <td>17</td>\n",
              "    </tr>\n",
              "    <tr>\n",
              "      <th>2020-03-20 17:35:00</th>\n",
              "      <td>0.0</td>\n",
              "      <td>4</td>\n",
              "      <td>0</td>\n",
              "      <td>4</td>\n",
              "      <td>17</td>\n",
              "    </tr>\n",
              "    <tr>\n",
              "      <th>2020-03-20 17:36:00</th>\n",
              "      <td>0.0</td>\n",
              "      <td>4</td>\n",
              "      <td>0</td>\n",
              "      <td>4</td>\n",
              "      <td>17</td>\n",
              "    </tr>\n",
              "    <tr>\n",
              "      <th>2020-03-20 17:37:00</th>\n",
              "      <td>0.0</td>\n",
              "      <td>4</td>\n",
              "      <td>0</td>\n",
              "      <td>4</td>\n",
              "      <td>17</td>\n",
              "    </tr>\n",
              "  </tbody>\n",
              "</table>\n",
              "</div>"
            ],
            "text/plain": [
              "                     Cont  diasem  Festivo  Valor  hora\n",
              "Fecha                                                  \n",
              "2020-03-20 17:33:00   1.0       4        0      4    17\n",
              "2020-03-20 17:34:00   0.0       4        0      4    17\n",
              "2020-03-20 17:35:00   0.0       4        0      4    17\n",
              "2020-03-20 17:36:00   0.0       4        0      4    17\n",
              "2020-03-20 17:37:00   0.0       4        0      4    17"
            ]
          },
          "metadata": {
            "tags": []
          },
          "execution_count": 28
        }
      ]
    },
    {
      "cell_type": "code",
      "metadata": {
        "colab": {
          "base_uri": "https://localhost:8080/"
        },
        "id": "pGY5bUI5s4uq",
        "outputId": "d194107f-2d3a-4fec-818d-029954f6ed39"
      },
      "source": [
        "base.isna().sum()"
      ],
      "execution_count": null,
      "outputs": [
        {
          "output_type": "execute_result",
          "data": {
            "text/plain": [
              "Cont       0\n",
              "diasem     0\n",
              "Festivo    0\n",
              "Valor      0\n",
              "hora       0\n",
              "dtype: int64"
            ]
          },
          "metadata": {
            "tags": []
          },
          "execution_count": 29
        }
      ]
    },
    {
      "cell_type": "code",
      "metadata": {
        "colab": {
          "base_uri": "https://localhost:8080/",
          "height": 355
        },
        "id": "02f4UZaYwvHa",
        "outputId": "90ac8612-3673-4165-b386-9fcb9d195311"
      },
      "source": [
        "basetorch = base.copy()\n",
        "basetorch['Predict']=np.nan\n",
        "basetorch['Predict'][:-1] = basetorch['Cont'][1:]\n",
        "basetorch=basetorch[:-1]\n",
        "basetorch.head()"
      ],
      "execution_count": null,
      "outputs": [
        {
          "output_type": "stream",
          "text": [
            "/usr/local/lib/python3.6/dist-packages/ipykernel_launcher.py:3: SettingWithCopyWarning:\n",
            "\n",
            "\n",
            "A value is trying to be set on a copy of a slice from a DataFrame\n",
            "\n",
            "See the caveats in the documentation: https://pandas.pydata.org/pandas-docs/stable/user_guide/indexing.html#returning-a-view-versus-a-copy\n",
            "\n"
          ],
          "name": "stderr"
        },
        {
          "output_type": "execute_result",
          "data": {
            "text/html": [
              "<div>\n",
              "<style scoped>\n",
              "    .dataframe tbody tr th:only-of-type {\n",
              "        vertical-align: middle;\n",
              "    }\n",
              "\n",
              "    .dataframe tbody tr th {\n",
              "        vertical-align: top;\n",
              "    }\n",
              "\n",
              "    .dataframe thead th {\n",
              "        text-align: right;\n",
              "    }\n",
              "</style>\n",
              "<table border=\"1\" class=\"dataframe\">\n",
              "  <thead>\n",
              "    <tr style=\"text-align: right;\">\n",
              "      <th></th>\n",
              "      <th>Cont</th>\n",
              "      <th>diasem</th>\n",
              "      <th>Festivo</th>\n",
              "      <th>Valor</th>\n",
              "      <th>hora</th>\n",
              "      <th>Predict</th>\n",
              "    </tr>\n",
              "    <tr>\n",
              "      <th>Fecha</th>\n",
              "      <th></th>\n",
              "      <th></th>\n",
              "      <th></th>\n",
              "      <th></th>\n",
              "      <th></th>\n",
              "      <th></th>\n",
              "    </tr>\n",
              "  </thead>\n",
              "  <tbody>\n",
              "    <tr>\n",
              "      <th>2018-11-01 07:46:00</th>\n",
              "      <td>1.0</td>\n",
              "      <td>3</td>\n",
              "      <td>0</td>\n",
              "      <td>0</td>\n",
              "      <td>7</td>\n",
              "      <td>2.0</td>\n",
              "    </tr>\n",
              "    <tr>\n",
              "      <th>2018-11-01 07:47:00</th>\n",
              "      <td>2.0</td>\n",
              "      <td>3</td>\n",
              "      <td>0</td>\n",
              "      <td>0</td>\n",
              "      <td>7</td>\n",
              "      <td>2.0</td>\n",
              "    </tr>\n",
              "    <tr>\n",
              "      <th>2018-11-01 07:48:00</th>\n",
              "      <td>2.0</td>\n",
              "      <td>3</td>\n",
              "      <td>0</td>\n",
              "      <td>0</td>\n",
              "      <td>7</td>\n",
              "      <td>4.0</td>\n",
              "    </tr>\n",
              "    <tr>\n",
              "      <th>2018-11-01 07:49:00</th>\n",
              "      <td>4.0</td>\n",
              "      <td>3</td>\n",
              "      <td>0</td>\n",
              "      <td>0</td>\n",
              "      <td>7</td>\n",
              "      <td>4.0</td>\n",
              "    </tr>\n",
              "    <tr>\n",
              "      <th>2018-11-01 07:50:00</th>\n",
              "      <td>4.0</td>\n",
              "      <td>3</td>\n",
              "      <td>0</td>\n",
              "      <td>0</td>\n",
              "      <td>7</td>\n",
              "      <td>4.0</td>\n",
              "    </tr>\n",
              "  </tbody>\n",
              "</table>\n",
              "</div>"
            ],
            "text/plain": [
              "                     Cont  diasem  Festivo  Valor  hora  Predict\n",
              "Fecha                                                           \n",
              "2018-11-01 07:46:00   1.0       3        0      0     7      2.0\n",
              "2018-11-01 07:47:00   2.0       3        0      0     7      2.0\n",
              "2018-11-01 07:48:00   2.0       3        0      0     7      4.0\n",
              "2018-11-01 07:49:00   4.0       3        0      0     7      4.0\n",
              "2018-11-01 07:50:00   4.0       3        0      0     7      4.0"
            ]
          },
          "metadata": {
            "tags": []
          },
          "execution_count": 19
        }
      ]
    },
    {
      "cell_type": "code",
      "metadata": {
        "colab": {
          "base_uri": "https://localhost:8080/",
          "height": 309
        },
        "id": "dOzEntV5Ci0T",
        "outputId": "fcf890f5-ee93-43a2-9bc9-ff0cd174e391"
      },
      "source": [
        "#Quitar fechas ruido\n",
        "fechas = basetorch.index.to_series()\n",
        "basetorch = basetorch[(fechas>'2019-05-01')]\n",
        "basetorch[['Cont']].plot()"
      ],
      "execution_count": null,
      "outputs": [
        {
          "output_type": "execute_result",
          "data": {
            "text/plain": [
              "<matplotlib.axes._subplots.AxesSubplot at 0x7f57d4c64518>"
            ]
          },
          "metadata": {
            "tags": []
          },
          "execution_count": 20
        },
        {
          "output_type": "display_data",
          "data": {
            "image/png": "[encoded data removed]",
            "text/plain": [
              "<Figure size 432x288 with 1 Axes>"
            ]
          },
          "metadata": {
            "tags": [],
            "needs_background": "light"
          }
        }
      ]
    },
    {
      "cell_type": "code",
      "metadata": {
        "id": "dgtJnEmxvdBW"
      },
      "source": [
        "import numpy as np\n",
        "import torch\n",
        "import torch.nn as nn\n",
        "import torch.nn.functional as F\n",
        "\n",
        "class REDTORCH(nn.Module):\n",
        "    def __init__(self, inputs, hidden, outputs):\n",
        "        super(REDTORCH, self).__init__()\n",
        "        self.linear1 = nn.Linear(inputs, hidden)\n",
        "        self.linear2 = nn.Linear(hidden, outputs)\n",
        "\n",
        "    def forward(self, x):\n",
        "        h_linear = self.linear1(x)\n",
        "        y_pred = self.linear2(h_linear)\n",
        "        return F.relu(y_pred)"
      ],
      "execution_count": null,
      "outputs": []
    },
    {
      "cell_type": "code",
      "metadata": {
        "id": "egso5YpSvolN"
      },
      "source": [
        "modeloto=REDTORCH(5,16,1)"
      ],
      "execution_count": null,
      "outputs": []
    },
    {
      "cell_type": "code",
      "metadata": {
        "colab": {
          "base_uri": "https://localhost:8080/",
          "height": 228
        },
        "id": "Xs_txyy-2VSJ",
        "outputId": "c5502a7e-fac6-447b-dcab-bd9844580d98"
      },
      "source": [
        "maximoclima = basetorch['Valor'].max()\n",
        "basetorch['Valor']=basetorch['Valor']/maximoclima\n",
        "maximoC = basetorch['Cont'].max()\n",
        "basetorch['Cont']=basetorch['Cont']/maximoC\n",
        "basetorch['Predict']=basetorch['Predict']/maximoC\n",
        "basetorch['diasem']=basetorch['diasem']/7\n",
        "basetorch['Festivo']=basetorch['Festivo']/1\n",
        "basetorch['hora']=basetorch['hora']/24\n",
        "basetorch.head()"
      ],
      "execution_count": null,
      "outputs": [
        {
          "output_type": "execute_result",
          "data": {
            "text/html": [
              "<div>\n",
              "<style scoped>\n",
              "    .dataframe tbody tr th:only-of-type {\n",
              "        vertical-align: middle;\n",
              "    }\n",
              "\n",
              "    .dataframe tbody tr th {\n",
              "        vertical-align: top;\n",
              "    }\n",
              "\n",
              "    .dataframe thead th {\n",
              "        text-align: right;\n",
              "    }\n",
              "</style>\n",
              "<table border=\"1\" class=\"dataframe\">\n",
              "  <thead>\n",
              "    <tr style=\"text-align: right;\">\n",
              "      <th></th>\n",
              "      <th>Cont</th>\n",
              "      <th>diasem</th>\n",
              "      <th>Festivo</th>\n",
              "      <th>Valor</th>\n",
              "      <th>hora</th>\n",
              "      <th>Predict</th>\n",
              "    </tr>\n",
              "    <tr>\n",
              "      <th>Fecha</th>\n",
              "      <th></th>\n",
              "      <th></th>\n",
              "      <th></th>\n",
              "      <th></th>\n",
              "      <th></th>\n",
              "      <th></th>\n",
              "    </tr>\n",
              "  </thead>\n",
              "  <tbody>\n",
              "    <tr>\n",
              "      <th>2019-05-01 00:01:00</th>\n",
              "      <td>0.038462</td>\n",
              "      <td>0.285714</td>\n",
              "      <td>1.0</td>\n",
              "      <td>0.5</td>\n",
              "      <td>0.0</td>\n",
              "      <td>0.038462</td>\n",
              "    </tr>\n",
              "    <tr>\n",
              "      <th>2019-05-01 00:02:00</th>\n",
              "      <td>0.038462</td>\n",
              "      <td>0.285714</td>\n",
              "      <td>1.0</td>\n",
              "      <td>0.5</td>\n",
              "      <td>0.0</td>\n",
              "      <td>0.038462</td>\n",
              "    </tr>\n",
              "    <tr>\n",
              "      <th>2019-05-01 00:03:00</th>\n",
              "      <td>0.038462</td>\n",
              "      <td>0.285714</td>\n",
              "      <td>1.0</td>\n",
              "      <td>0.5</td>\n",
              "      <td>0.0</td>\n",
              "      <td>0.038462</td>\n",
              "    </tr>\n",
              "    <tr>\n",
              "      <th>2019-05-01 00:04:00</th>\n",
              "      <td>0.038462</td>\n",
              "      <td>0.285714</td>\n",
              "      <td>1.0</td>\n",
              "      <td>0.5</td>\n",
              "      <td>0.0</td>\n",
              "      <td>0.038462</td>\n",
              "    </tr>\n",
              "    <tr>\n",
              "      <th>2019-05-01 00:05:00</th>\n",
              "      <td>0.038462</td>\n",
              "      <td>0.285714</td>\n",
              "      <td>1.0</td>\n",
              "      <td>0.5</td>\n",
              "      <td>0.0</td>\n",
              "      <td>0.038462</td>\n",
              "    </tr>\n",
              "  </tbody>\n",
              "</table>\n",
              "</div>"
            ],
            "text/plain": [
              "                         Cont    diasem  Festivo  Valor  hora   Predict\n",
              "Fecha                                                                  \n",
              "2019-05-01 00:01:00  0.038462  0.285714      1.0    0.5   0.0  0.038462\n",
              "2019-05-01 00:02:00  0.038462  0.285714      1.0    0.5   0.0  0.038462\n",
              "2019-05-01 00:03:00  0.038462  0.285714      1.0    0.5   0.0  0.038462\n",
              "2019-05-01 00:04:00  0.038462  0.285714      1.0    0.5   0.0  0.038462\n",
              "2019-05-01 00:05:00  0.038462  0.285714      1.0    0.5   0.0  0.038462"
            ]
          },
          "metadata": {
            "tags": []
          },
          "execution_count": 23
        }
      ]
    },
    {
      "cell_type": "code",
      "metadata": {
        "id": "I9fLhgbl3XS9"
      },
      "source": [
        "criterion = torch.nn.MSELoss(reduction='sum')\n",
        "optimizer = torch.optim.Adam(modeloto.parameters(), lr=0.01)"
      ],
      "execution_count": null,
      "outputs": []
    },
    {
      "cell_type": "code",
      "metadata": {
        "colab": {
          "base_uri": "https://localhost:8080/",
          "height": 309
        },
        "id": "0iUs3gxtBxy_",
        "outputId": "ba66e788-e211-486c-c828-4b877e9f938d"
      },
      "source": [
        "basetorch[['Cont']].plot()"
      ],
      "execution_count": null,
      "outputs": [
        {
          "output_type": "execute_result",
          "data": {
            "text/plain": [
              "<matplotlib.axes._subplots.AxesSubplot at 0x7f57d022f710>"
            ]
          },
          "metadata": {
            "tags": []
          },
          "execution_count": 25
        },
        {
          "output_type": "display_data",
          "data": {
            "image/png": "[encoded data removed]",
            "text/plain": [
              "<Figure size 432x288 with 1 Axes>"
            ]
          },
          "metadata": {
            "tags": [],
            "needs_background": "light"
          }
        }
      ]
    },
    {
      "cell_type": "code",
      "metadata": {
        "id": "bs-pB-iI3sGT"
      },
      "source": [
        "entrada = basetorch[['Cont','diasem','Festivo','Valor','hora']].values\n",
        "salida = basetorch[['Predict']].values\n",
        "\n",
        "from sklearn.model_selection import train_test_split\n",
        "X_train, X_test, y_train, y_test = train_test_split(entrada, salida, test_size=0.33)\n",
        "X_train=torch.from_numpy(X_train).type(torch.float)\n",
        "y_train=torch.from_numpy(y_train).type(torch.float)\n",
        "X_test=torch.from_numpy(X_test).type(torch.float)\n",
        "y_test=torch.from_numpy(y_test).type(torch.float)"
      ],
      "execution_count": null,
      "outputs": []
    },
    {
      "cell_type": "code",
      "metadata": {
        "id": "BXToLMyA5O45"
      },
      "source": [
        "for  i  in range (1000):\n",
        "  modeloto.zero_grad()\n",
        "  pred = modeloto(X_train)\n",
        "  loss = criterion(pred, y_train)\n",
        "  optimizer.zero_grad()\n",
        "  loss.backward()\n",
        "  optimizer.step()"
      ],
      "execution_count": null,
      "outputs": []
    },
    {
      "cell_type": "code",
      "metadata": {
        "colab": {
          "base_uri": "https://localhost:8080/",
          "height": 283
        },
        "id": "qYTYLFH87yjl",
        "outputId": "9731d558-009f-4ab7-a2b0-5e28b92fa6f3"
      },
      "source": [
        "predichos = modeloto(X_test)\n",
        "plt.plot(predichos.detach().numpy()*maximoC)\n",
        "plt.plot(y_test.detach().numpy()*maximoC)\n"
      ],
      "execution_count": null,
      "outputs": [
        {
          "output_type": "execute_result",
          "data": {
            "text/plain": [
              "[<matplotlib.lines.Line2D at 0x7f5780066a20>]"
            ]
          },
          "metadata": {
            "tags": []
          },
          "execution_count": 32
        },
        {
          "output_type": "display_data",
          "data": {
            "image/png": "[encoded data removed]",
            "text/plain": [
              "<Figure size 432x288 with 1 Axes>"
            ]
          },
          "metadata": {
            "tags": [],
            "needs_background": "light"
          }
        }
      ]
    },
    {
      "cell_type": "code",
      "metadata": {
        "colab": {
          "base_uri": "https://localhost:8080/"
        },
        "id": "2sOJiy_Q-iUU",
        "outputId": "e87d8a4c-aeb4-4702-a9cf-724b0ad4b527"
      },
      "source": [
        "np.sqrt(np.power(predichos.detach().numpy()-y_test.detach().numpy(),2).mean())*maximoC"
      ],
      "execution_count": null,
      "outputs": [
        {
          "output_type": "execute_result",
          "data": {
            "text/plain": [
              "0.23093866184353828"
            ]
          },
          "metadata": {
            "tags": []
          },
          "execution_count": 33
        }
      ]
    },
    {
      "cell_type": "markdown",
      "metadata": {
        "id": "EfMked1I8uau"
      },
      "source": [
        "Modelo Torch #2 fecha ant"
      ]
    },
    {
      "cell_type": "code",
      "metadata": {
        "id": "vCuYZJx0xb0w",
        "colab": {
          "base_uri": "https://localhost:8080/",
          "height": 355
        },
        "outputId": "9db439ee-0030-4e37-88a9-c0a6d7ec4770"
      },
      "source": [
        "basetorch2 = base.copy()\n",
        "basetorch2['Predict']=np.nan\n",
        "basetorch2['Predict'][:-3600] = basetorch2['Cont'][3600:]\n",
        "basetorch=basetorch2[:-3600]\n",
        "basetorch2.head()"
      ],
      "execution_count": null,
      "outputs": [
        {
          "output_type": "stream",
          "text": [
            "/usr/local/lib/python3.6/dist-packages/ipykernel_launcher.py:3: SettingWithCopyWarning:\n",
            "\n",
            "\n",
            "A value is trying to be set on a copy of a slice from a DataFrame\n",
            "\n",
            "See the caveats in the documentation: https://pandas.pydata.org/pandas-docs/stable/user_guide/indexing.html#returning-a-view-versus-a-copy\n",
            "\n"
          ],
          "name": "stderr"
        },
        {
          "output_type": "execute_result",
          "data": {
            "text/html": [
              "<div>\n",
              "<style scoped>\n",
              "    .dataframe tbody tr th:only-of-type {\n",
              "        vertical-align: middle;\n",
              "    }\n",
              "\n",
              "    .dataframe tbody tr th {\n",
              "        vertical-align: top;\n",
              "    }\n",
              "\n",
              "    .dataframe thead th {\n",
              "        text-align: right;\n",
              "    }\n",
              "</style>\n",
              "<table border=\"1\" class=\"dataframe\">\n",
              "  <thead>\n",
              "    <tr style=\"text-align: right;\">\n",
              "      <th></th>\n",
              "      <th>Cont</th>\n",
              "      <th>diasem</th>\n",
              "      <th>Festivo</th>\n",
              "      <th>Valor</th>\n",
              "      <th>hora</th>\n",
              "      <th>Predict</th>\n",
              "    </tr>\n",
              "    <tr>\n",
              "      <th>Fecha</th>\n",
              "      <th></th>\n",
              "      <th></th>\n",
              "      <th></th>\n",
              "      <th></th>\n",
              "      <th></th>\n",
              "      <th></th>\n",
              "    </tr>\n",
              "  </thead>\n",
              "  <tbody>\n",
              "    <tr>\n",
              "      <th>2018-11-01 07:46:00</th>\n",
              "      <td>1.0</td>\n",
              "      <td>3</td>\n",
              "      <td>0</td>\n",
              "      <td>0</td>\n",
              "      <td>7</td>\n",
              "      <td>1.0</td>\n",
              "    </tr>\n",
              "    <tr>\n",
              "      <th>2018-11-01 07:47:00</th>\n",
              "      <td>2.0</td>\n",
              "      <td>3</td>\n",
              "      <td>0</td>\n",
              "      <td>0</td>\n",
              "      <td>7</td>\n",
              "      <td>1.0</td>\n",
              "    </tr>\n",
              "    <tr>\n",
              "      <th>2018-11-01 07:48:00</th>\n",
              "      <td>2.0</td>\n",
              "      <td>3</td>\n",
              "      <td>0</td>\n",
              "      <td>0</td>\n",
              "      <td>7</td>\n",
              "      <td>1.0</td>\n",
              "    </tr>\n",
              "    <tr>\n",
              "      <th>2018-11-01 07:49:00</th>\n",
              "      <td>4.0</td>\n",
              "      <td>3</td>\n",
              "      <td>0</td>\n",
              "      <td>0</td>\n",
              "      <td>7</td>\n",
              "      <td>1.0</td>\n",
              "    </tr>\n",
              "    <tr>\n",
              "      <th>2018-11-01 07:50:00</th>\n",
              "      <td>4.0</td>\n",
              "      <td>3</td>\n",
              "      <td>0</td>\n",
              "      <td>0</td>\n",
              "      <td>7</td>\n",
              "      <td>1.0</td>\n",
              "    </tr>\n",
              "  </tbody>\n",
              "</table>\n",
              "</div>"
            ],
            "text/plain": [
              "                     Cont  diasem  Festivo  Valor  hora  Predict\n",
              "Fecha                                                           \n",
              "2018-11-01 07:46:00   1.0       3        0      0     7      1.0\n",
              "2018-11-01 07:47:00   2.0       3        0      0     7      1.0\n",
              "2018-11-01 07:48:00   2.0       3        0      0     7      1.0\n",
              "2018-11-01 07:49:00   4.0       3        0      0     7      1.0\n",
              "2018-11-01 07:50:00   4.0       3        0      0     7      1.0"
            ]
          },
          "metadata": {
            "tags": []
          },
          "execution_count": 35
        }
      ]
    },
    {
      "cell_type": "code",
      "metadata": {
        "colab": {
          "base_uri": "https://localhost:8080/",
          "height": 309
        },
        "id": "rd2yVcTH7SDB",
        "outputId": "3f8c2346-02bb-4eb8-e250-c555fb43fc29"
      },
      "source": [
        "#Quitar fechas ruido\n",
        "fechas = basetorch2.index.to_series()\n",
        "basetorch2 = basetorch2[(fechas>'2019-05-01')]\n",
        "basetorch2[['Cont']].plot()"
      ],
      "execution_count": null,
      "outputs": [
        {
          "output_type": "execute_result",
          "data": {
            "text/plain": [
              "<matplotlib.axes._subplots.AxesSubplot at 0x7f2ee611ca90>"
            ]
          },
          "metadata": {
            "tags": []
          },
          "execution_count": 42
        },
        {
          "output_type": "display_data",
          "data": {
            "image/png": "[encoded data removed]",
            "text/plain": [
              "<Figure size 432x288 with 1 Axes>"
            ]
          },
          "metadata": {
            "tags": [],
            "needs_background": "light"
          }
        }
      ]
    },
    {
      "cell_type": "code",
      "metadata": {
        "id": "TTsKnvLT7jQF"
      },
      "source": [
        "import numpy as np\n",
        "import torch\n",
        "import torch.nn as nn\n",
        "import torch.nn.functional as F\n",
        "\n",
        "class REDTORCH(nn.Module):\n",
        "    def __init__(self, inputs, hidden, outputs):\n",
        "        super(REDTORCH, self).__init__()\n",
        "        self.linear1 = nn.Linear(inputs, hidden)\n",
        "        self.linear2 = nn.Linear(hidden, outputs)\n",
        "\n",
        "    def forward(self, x):\n",
        "        h_linear = self.linear1(x)\n",
        "        y_pred = self.linear2(h_linear)\n",
        "        return F.relu(y_pred)"
      ],
      "execution_count": null,
      "outputs": []
    },
    {
      "cell_type": "code",
      "metadata": {
        "id": "SCag1UhX7lAw"
      },
      "source": [
        "modeloto=REDTORCH(5,16,1)"
      ],
      "execution_count": null,
      "outputs": []
    },
    {
      "cell_type": "code",
      "metadata": {
        "colab": {
          "base_uri": "https://localhost:8080/",
          "height": 228
        },
        "id": "mwlX4h067t9N",
        "outputId": "aa805cb9-cf2b-4277-e04d-e82895a1ee95"
      },
      "source": [
        "maximoclima = basetorch2['Valor'].max()\n",
        "basetorch2['Valor']=basetorch2['Valor']/maximoclima\n",
        "maximoC = basetorch2['Cont'].max()\n",
        "basetorch2['Cont']=basetorch2['Cont']/maximoC\n",
        "basetorch2['Predict']=basetorch2['Predict']/maximoC\n",
        "basetorch2['diasem']=basetorch2['diasem']/7\n",
        "basetorch2['Festivo']=basetorch2['Festivo']/1\n",
        "basetorch2['hora']=basetorch2['hora']/24\n",
        "basetorch2.head()"
      ],
      "execution_count": null,
      "outputs": [
        {
          "output_type": "execute_result",
          "data": {
            "text/html": [
              "<div>\n",
              "<style scoped>\n",
              "    .dataframe tbody tr th:only-of-type {\n",
              "        vertical-align: middle;\n",
              "    }\n",
              "\n",
              "    .dataframe tbody tr th {\n",
              "        vertical-align: top;\n",
              "    }\n",
              "\n",
              "    .dataframe thead th {\n",
              "        text-align: right;\n",
              "    }\n",
              "</style>\n",
              "<table border=\"1\" class=\"dataframe\">\n",
              "  <thead>\n",
              "    <tr style=\"text-align: right;\">\n",
              "      <th></th>\n",
              "      <th>Cont</th>\n",
              "      <th>diasem</th>\n",
              "      <th>Festivo</th>\n",
              "      <th>Valor</th>\n",
              "      <th>hora</th>\n",
              "      <th>Predict</th>\n",
              "    </tr>\n",
              "    <tr>\n",
              "      <th>Fecha</th>\n",
              "      <th></th>\n",
              "      <th></th>\n",
              "      <th></th>\n",
              "      <th></th>\n",
              "      <th></th>\n",
              "      <th></th>\n",
              "    </tr>\n",
              "  </thead>\n",
              "  <tbody>\n",
              "    <tr>\n",
              "      <th>2018-11-01 07:46:00</th>\n",
              "      <td>0.013889</td>\n",
              "      <td>0.428571</td>\n",
              "      <td>0.0</td>\n",
              "      <td>0.0</td>\n",
              "      <td>0.291667</td>\n",
              "      <td>0.013889</td>\n",
              "    </tr>\n",
              "    <tr>\n",
              "      <th>2018-11-01 07:47:00</th>\n",
              "      <td>0.027778</td>\n",
              "      <td>0.428571</td>\n",
              "      <td>0.0</td>\n",
              "      <td>0.0</td>\n",
              "      <td>0.291667</td>\n",
              "      <td>0.013889</td>\n",
              "    </tr>\n",
              "    <tr>\n",
              "      <th>2018-11-01 07:48:00</th>\n",
              "      <td>0.027778</td>\n",
              "      <td>0.428571</td>\n",
              "      <td>0.0</td>\n",
              "      <td>0.0</td>\n",
              "      <td>0.291667</td>\n",
              "      <td>0.013889</td>\n",
              "    </tr>\n",
              "    <tr>\n",
              "      <th>2018-11-01 07:49:00</th>\n",
              "      <td>0.055556</td>\n",
              "      <td>0.428571</td>\n",
              "      <td>0.0</td>\n",
              "      <td>0.0</td>\n",
              "      <td>0.291667</td>\n",
              "      <td>0.013889</td>\n",
              "    </tr>\n",
              "    <tr>\n",
              "      <th>2018-11-01 07:50:00</th>\n",
              "      <td>0.055556</td>\n",
              "      <td>0.428571</td>\n",
              "      <td>0.0</td>\n",
              "      <td>0.0</td>\n",
              "      <td>0.291667</td>\n",
              "      <td>0.013889</td>\n",
              "    </tr>\n",
              "  </tbody>\n",
              "</table>\n",
              "</div>"
            ],
            "text/plain": [
              "                         Cont    diasem  Festivo  Valor      hora   Predict\n",
              "Fecha                                                                      \n",
              "2018-11-01 07:46:00  0.013889  0.428571      0.0    0.0  0.291667  0.013889\n",
              "2018-11-01 07:47:00  0.027778  0.428571      0.0    0.0  0.291667  0.013889\n",
              "2018-11-01 07:48:00  0.027778  0.428571      0.0    0.0  0.291667  0.013889\n",
              "2018-11-01 07:49:00  0.055556  0.428571      0.0    0.0  0.291667  0.013889\n",
              "2018-11-01 07:50:00  0.055556  0.428571      0.0    0.0  0.291667  0.013889"
            ]
          },
          "metadata": {
            "tags": []
          },
          "execution_count": 40
        }
      ]
    },
    {
      "cell_type": "code",
      "metadata": {
        "id": "Z9ya_mK476Zt"
      },
      "source": [
        "entrada = basetorch2[['Cont','diasem','Festivo','Valor','hora']].values\n",
        "salida = basetorch2[['Predict']].values\n",
        "\n",
        "from sklearn.model_selection import train_test_split\n",
        "X_train, X_test, y_train, y_test = train_test_split(entrada, salida, test_size=0.33)\n",
        "X_train=torch.from_numpy(X_train).type(torch.float)\n",
        "y_train=torch.from_numpy(y_train).type(torch.float)\n",
        "X_test=torch.from_numpy(X_test).type(torch.float)\n",
        "y_test=torch.from_numpy(y_test).type(torch.float)"
      ],
      "execution_count": null,
      "outputs": []
    },
    {
      "cell_type": "code",
      "metadata": {
        "id": "j-pN9MHl8nk_"
      },
      "source": [
        "criterion = torch.nn.MSELoss(reduction='sum')\n",
        "optimizer = torch.optim.Adam(modeloto.parameters(), lr=0.01)"
      ],
      "execution_count": null,
      "outputs": []
    },
    {
      "cell_type": "code",
      "metadata": {
        "id": "Rn9JDiGj8dmj"
      },
      "source": [
        "for  i  in range (1000):\n",
        "  modeloto.zero_grad()\n",
        "  pred = modeloto(X_train)\n",
        "  loss = criterion(pred, y_train)\n",
        "  optimizer.zero_grad()\n",
        "  loss.backward()\n",
        "  optimizer.step()"
      ],
      "execution_count": null,
      "outputs": []
    },
    {
      "cell_type": "code",
      "metadata": {
        "colab": {
          "base_uri": "https://localhost:8080/",
          "height": 283
        },
        "id": "Iqha3xWC89ET",
        "outputId": "40ca58df-ba32-454a-9c10-41632dfb7d51"
      },
      "source": [
        "predichos = modeloto(X_test)\n",
        "plt.plot(predichos.detach().numpy()*maximoC)\n",
        "#plt.plot(y_test.detach().numpy()*maximoC)"
      ],
      "execution_count": null,
      "outputs": [
        {
          "output_type": "execute_result",
          "data": {
            "text/plain": [
              "[<matplotlib.lines.Line2D at 0x7f2ee23fab00>]"
            ]
          },
          "metadata": {
            "tags": []
          },
          "execution_count": 55
        },
        {
          "output_type": "display_data",
          "data": {
            "image/png": "[encoded data removed]",
            "text/plain": [
              "<Figure size 432x288 with 1 Axes>"
            ]
          },
          "metadata": {
            "tags": [],
            "needs_background": "light"
          }
        }
      ]
    },
    {
      "cell_type": "code",
      "metadata": {
        "colab": {
          "base_uri": "https://localhost:8080/"
        },
        "id": "4VIqJapI9BiI",
        "outputId": "54bbea7b-f8c5-4d29-d638-18fb6aee0e26"
      },
      "source": [
        "np.sqrt(np.power(predichos.detach().numpy()-y_test.detach().numpy(),2).mean())*maximoC"
      ],
      "execution_count": null,
      "outputs": [
        {
          "output_type": "execute_result",
          "data": {
            "text/plain": [
              "nan"
            ]
          },
          "metadata": {
            "tags": []
          },
          "execution_count": 50
        }
      ]
    },
    {
      "cell_type": "markdown",
      "metadata": {
        "id": "2LxzUWdeYMlr"
      },
      "source": [
        "#Codigo ciclo por celdas"
      ]
    },
    {
      "cell_type": "code",
      "metadata": {
        "id": "U9LZraNeZi99",
        "colab": {
          "base_uri": "https://localhost:8080/"
        },
        "outputId": "8a144e76-78ed-4f07-ba6a-503c9363de2a"
      },
      "source": [
        "!pip install pmdarima"
      ],
      "execution_count": null,
      "outputs": [
        {
          "output_type": "stream",
          "text": [
            "Collecting pmdarima\n",
            "\u001b[?25l  Downloading https://files.pythonhosted.org/packages/c9/d7/61af1897449638822f97c8b43ef0c2fce2ec68a6cda9a43ebbbdd12b967c/pmdarima-1.8.0-cp36-cp36m-manylinux1_x86_64.whl (1.5MB)\n",
            "\r\u001b[K     |▎                               | 10kB 14.9MB/s eta 0:00:01\r\u001b[K     |▌                               | 20kB 18.7MB/s eta 0:00:01\r\u001b[K     |▊                               | 30kB 15.2MB/s eta 0:00:01\r\u001b[K     |█                               | 40kB 12.5MB/s eta 0:00:01\r\u001b[K     |█▏                              | 51kB 10.3MB/s eta 0:00:01\r\u001b[K     |█▍                              | 61kB 9.3MB/s eta 0:00:01\r\u001b[K     |█▋                              | 71kB 10.2MB/s eta 0:00:01\r\u001b[K     |█▉                              | 81kB 11.2MB/s eta 0:00:01\r\u001b[K     |██                              | 92kB 10.1MB/s eta 0:00:01\r\u001b[K     |██▎                             | 102kB 9.4MB/s eta 0:00:01\r\u001b[K     |██▌                             | 112kB 9.4MB/s eta 0:00:01\r\u001b[K     |██▊                             | 122kB 9.4MB/s eta 0:00:01\r\u001b[K     |███                             | 133kB 9.4MB/s eta 0:00:01\r\u001b[K     |███▏                            | 143kB 9.4MB/s eta 0:00:01\r\u001b[K     |███▍                            | 153kB 9.4MB/s eta 0:00:01\r\u001b[K     |███▋                            | 163kB 9.4MB/s eta 0:00:01\r\u001b[K     |███▉                            | 174kB 9.4MB/s eta 0:00:01\r\u001b[K     |████                            | 184kB 9.4MB/s eta 0:00:01\r\u001b[K     |████▎                           | 194kB 9.4MB/s eta 0:00:01\r\u001b[K     |████▌                           | 204kB 9.4MB/s eta 0:00:01\r\u001b[K     |████▊                           | 215kB 9.4MB/s eta 0:00:01\r\u001b[K     |█████                           | 225kB 9.4MB/s eta 0:00:01\r\u001b[K     |█████▏                          | 235kB 9.4MB/s eta 0:00:01\r\u001b[K     |█████▍                          | 245kB 9.4MB/s eta 0:00:01\r\u001b[K     |█████▋                          | 256kB 9.4MB/s eta 0:00:01\r\u001b[K     |█████▉                          | 266kB 9.4MB/s eta 0:00:01\r\u001b[K     |██████                          | 276kB 9.4MB/s eta 0:00:01\r\u001b[K     |██████▎                         | 286kB 9.4MB/s eta 0:00:01\r\u001b[K     |██████▌                         | 296kB 9.4MB/s eta 0:00:01\r\u001b[K     |██████▊                         | 307kB 9.4MB/s eta 0:00:01\r\u001b[K     |███████                         | 317kB 9.4MB/s eta 0:00:01\r\u001b[K     |███████▏                        | 327kB 9.4MB/s eta 0:00:01\r\u001b[K     |███████▍                        | 337kB 9.4MB/s eta 0:00:01\r\u001b[K     |███████▋                        | 348kB 9.4MB/s eta 0:00:01\r\u001b[K     |███████▉                        | 358kB 9.4MB/s eta 0:00:01\r\u001b[K     |████████                        | 368kB 9.4MB/s eta 0:00:01\r\u001b[K     |████████▎                       | 378kB 9.4MB/s eta 0:00:01\r\u001b[K     |████████▌                       | 389kB 9.4MB/s eta 0:00:01\r\u001b[K     |████████▊                       | 399kB 9.4MB/s eta 0:00:01\r\u001b[K     |█████████                       | 409kB 9.4MB/s eta 0:00:01\r\u001b[K     |█████████▏                      | 419kB 9.4MB/s eta 0:00:01\r\u001b[K     |█████████▍                      | 430kB 9.4MB/s eta 0:00:01\r\u001b[K     |█████████▋                      | 440kB 9.4MB/s eta 0:00:01\r\u001b[K     |█████████▉                      | 450kB 9.4MB/s eta 0:00:01\r\u001b[K     |██████████                      | 460kB 9.4MB/s eta 0:00:01\r\u001b[K     |██████████▎                     | 471kB 9.4MB/s eta 0:00:01\r\u001b[K     |██████████▌                     | 481kB 9.4MB/s eta 0:00:01\r\u001b[K     |██████████▊                     | 491kB 9.4MB/s eta 0:00:01\r\u001b[K     |███████████                     | 501kB 9.4MB/s eta 0:00:01\r\u001b[K     |███████████▏                    | 512kB 9.4MB/s eta 0:00:01\r\u001b[K     |███████████▍                    | 522kB 9.4MB/s eta 0:00:01\r\u001b[K     |███████████▋                    | 532kB 9.4MB/s eta 0:00:01\r\u001b[K     |███████████▉                    | 542kB 9.4MB/s eta 0:00:01\r\u001b[K     |████████████                    | 552kB 9.4MB/s eta 0:00:01\r\u001b[K     |████████████▎                   | 563kB 9.4MB/s eta 0:00:01\r\u001b[K     |████████████▌                   | 573kB 9.4MB/s eta 0:00:01\r\u001b[K     |████████████▊                   | 583kB 9.4MB/s eta 0:00:01\r\u001b[K     |█████████████                   | 593kB 9.4MB/s eta 0:00:01\r\u001b[K     |█████████████▏                  | 604kB 9.4MB/s eta 0:00:01\r\u001b[K     |█████████████▍                  | 614kB 9.4MB/s eta 0:00:01\r\u001b[K     |█████████████▋                  | 624kB 9.4MB/s eta 0:00:01\r\u001b[K     |█████████████▉                  | 634kB 9.4MB/s eta 0:00:01\r\u001b[K     |██████████████                  | 645kB 9.4MB/s eta 0:00:01\r\u001b[K     |██████████████▎                 | 655kB 9.4MB/s eta 0:00:01\r\u001b[K     |██████████████▌                 | 665kB 9.4MB/s eta 0:00:01\r\u001b[K     |██████████████▊                 | 675kB 9.4MB/s eta 0:00:01\r\u001b[K     |███████████████                 | 686kB 9.4MB/s eta 0:00:01\r\u001b[K     |███████████████▏                | 696kB 9.4MB/s eta 0:00:01\r\u001b[K     |███████████████▍                | 706kB 9.4MB/s eta 0:00:01\r\u001b[K     |███████████████▋                | 716kB 9.4MB/s eta 0:00:01\r\u001b[K     |███████████████▉                | 727kB 9.4MB/s eta 0:00:01\r\u001b[K     |████████████████                | 737kB 9.4MB/s eta 0:00:01\r\u001b[K     |████████████████▎               | 747kB 9.4MB/s eta 0:00:01\r\u001b[K     |████████████████▌               | 757kB 9.4MB/s eta 0:00:01\r\u001b[K     |████████████████▊               | 768kB 9.4MB/s eta 0:00:01\r\u001b[K     |█████████████████               | 778kB 9.4MB/s eta 0:00:01\r\u001b[K     |█████████████████▏              | 788kB 9.4MB/s eta 0:00:01\r\u001b[K     |█████████████████▍              | 798kB 9.4MB/s eta 0:00:01\r\u001b[K     |█████████████████▋              | 808kB 9.4MB/s eta 0:00:01\r\u001b[K     |█████████████████▉              | 819kB 9.4MB/s eta 0:00:01\r\u001b[K     |██████████████████▏             | 829kB 9.4MB/s eta 0:00:01\r\u001b[K     |██████████████████▍             | 839kB 9.4MB/s eta 0:00:01\r\u001b[K     |██████████████████▋             | 849kB 9.4MB/s eta 0:00:01\r\u001b[K     |██████████████████▉             | 860kB 9.4MB/s eta 0:00:01\r\u001b[K     |███████████████████             | 870kB 9.4MB/s eta 0:00:01\r\u001b[K     |███████████████████▎            | 880kB 9.4MB/s eta 0:00:01\r\u001b[K     |███████████████████▌            | 890kB 9.4MB/s eta 0:00:01\r\u001b[K     |███████████████████▊            | 901kB 9.4MB/s eta 0:00:01\r\u001b[K     |████████████████████            | 911kB 9.4MB/s eta 0:00:01\r\u001b[K     |████████████████████▏           | 921kB 9.4MB/s eta 0:00:01\r\u001b[K     |████████████████████▍           | 931kB 9.4MB/s eta 0:00:01\r\u001b[K     |████████████████████▋           | 942kB 9.4MB/s eta 0:00:01\r\u001b[K     |████████████████████▉           | 952kB 9.4MB/s eta 0:00:01\r\u001b[K     |█████████████████████           | 962kB 9.4MB/s eta 0:00:01\r\u001b[K     |█████████████████████▎          | 972kB 9.4MB/s eta 0:00:01\r\u001b[K     |█████████████████████▌          | 983kB 9.4MB/s eta 0:00:01\r\u001b[K     |█████████████████████▊          | 993kB 9.4MB/s eta 0:00:01\r\u001b[K     |██████████████████████          | 1.0MB 9.4MB/s eta 0:00:01\r\u001b[K     |██████████████████████▏         | 1.0MB 9.4MB/s eta 0:00:01\r\u001b[K     |██████████████████████▍         | 1.0MB 9.4MB/s eta 0:00:01\r\u001b[K     |██████████████████████▋         | 1.0MB 9.4MB/s eta 0:00:01\r\u001b[K     |██████████████████████▉         | 1.0MB 9.4MB/s eta 0:00:01\r\u001b[K     |███████████████████████         | 1.1MB 9.4MB/s eta 0:00:01\r\u001b[K     |███████████████████████▎        | 1.1MB 9.4MB/s eta 0:00:01\r\u001b[K     |███████████████████████▌        | 1.1MB 9.4MB/s eta 0:00:01\r\u001b[K     |███████████████████████▊        | 1.1MB 9.4MB/s eta 0:00:01\r\u001b[K     |████████████████████████        | 1.1MB 9.4MB/s eta 0:00:01\r\u001b[K     |████████████████████████▏       | 1.1MB 9.4MB/s eta 0:00:01\r\u001b[K     |████████████████████████▍       | 1.1MB 9.4MB/s eta 0:00:01\r\u001b[K     |████████████████████████▋       | 1.1MB 9.4MB/s eta 0:00:01\r\u001b[K     |████████████████████████▉       | 1.1MB 9.4MB/s eta 0:00:01\r\u001b[K     |█████████████████████████       | 1.1MB 9.4MB/s eta 0:00:01\r\u001b[K     |█████████████████████████▎      | 1.2MB 9.4MB/s eta 0:00:01\r\u001b[K     |█████████████████████████▌      | 1.2MB 9.4MB/s eta 0:00:01\r\u001b[K     |█████████████████████████▊      | 1.2MB 9.4MB/s eta 0:00:01\r\u001b[K     |██████████████████████████      | 1.2MB 9.4MB/s eta 0:00:01\r\u001b[K     |██████████████████████████▏     | 1.2MB 9.4MB/s eta 0:00:01\r\u001b[K     |██████████████████████████▍     | 1.2MB 9.4MB/s eta 0:00:01\r\u001b[K     |██████████████████████████▋     | 1.2MB 9.4MB/s eta 0:00:01\r\u001b[K     |██████████████████████████▉     | 1.2MB 9.4MB/s eta 0:00:01\r\u001b[K     |███████████████████████████     | 1.2MB 9.4MB/s eta 0:00:01\r\u001b[K     |███████████████████████████▎    | 1.2MB 9.4MB/s eta 0:00:01\r\u001b[K     |███████████████████████████▌    | 1.3MB 9.4MB/s eta 0:00:01\r\u001b[K     |███████████████████████████▊    | 1.3MB 9.4MB/s eta 0:00:01\r\u001b[K     |████████████████████████████    | 1.3MB 9.4MB/s eta 0:00:01\r\u001b[K     |████████████████████████████▏   | 1.3MB 9.4MB/s eta 0:00:01\r\u001b[K     |████████████████████████████▍   | 1.3MB 9.4MB/s eta 0:00:01\r\u001b[K     |████████████████████████████▋   | 1.3MB 9.4MB/s eta 0:00:01\r\u001b[K     |████████████████████████████▉   | 1.3MB 9.4MB/s eta 0:00:01\r\u001b[K     |█████████████████████████████   | 1.3MB 9.4MB/s eta 0:00:01\r\u001b[K     |█████████████████████████████▎  | 1.3MB 9.4MB/s eta 0:00:01\r\u001b[K     |█████████████████████████████▌  | 1.4MB 9.4MB/s eta 0:00:01\r\u001b[K     |█████████████████████████████▊  | 1.4MB 9.4MB/s eta 0:00:01\r\u001b[K     |██████████████████████████████  | 1.4MB 9.4MB/s eta 0:00:01\r\u001b[K     |██████████████████████████████▏ | 1.4MB 9.4MB/s eta 0:00:01\r\u001b[K     |██████████████████████████████▍ | 1.4MB 9.4MB/s eta 0:00:01\r\u001b[K     |██████████████████████████████▋ | 1.4MB 9.4MB/s eta 0:00:01\r\u001b[K     |██████████████████████████████▉ | 1.4MB 9.4MB/s eta 0:00:01\r\u001b[K     |███████████████████████████████ | 1.4MB 9.4MB/s eta 0:00:01\r\u001b[K     |███████████████████████████████▎| 1.4MB 9.4MB/s eta 0:00:01\r\u001b[K     |███████████████████████████████▌| 1.4MB 9.4MB/s eta 0:00:01\r\u001b[K     |███████████████████████████████▊| 1.5MB 9.4MB/s eta 0:00:01\r\u001b[K     |████████████████████████████████| 1.5MB 9.4MB/s eta 0:00:01\r\u001b[K     |████████████████████████████████| 1.5MB 9.4MB/s \n",
            "\u001b[?25hRequirement already satisfied: pandas>=0.19 in /usr/local/lib/python3.6/dist-packages (from pmdarima) (1.1.5)\n",
            "Requirement already satisfied: numpy>=1.17.3 in /usr/local/lib/python3.6/dist-packages (from pmdarima) (1.18.5)\n",
            "Requirement already satisfied: scipy>=1.3.2 in /usr/local/lib/python3.6/dist-packages (from pmdarima) (1.4.1)\n",
            "Requirement already satisfied: urllib3 in /usr/local/lib/python3.6/dist-packages (from pmdarima) (1.24.3)\n",
            "Requirement already satisfied: scikit-learn>=0.22 in /usr/local/lib/python3.6/dist-packages (from pmdarima) (0.22.2.post1)\n",
            "Collecting Cython<0.29.18,>=0.29\n",
            "\u001b[?25l  Downloading https://files.pythonhosted.org/packages/e7/d7/510ddef0248f3e1e91f9cc7e31c0f35f8954d0af92c5c3fd4c853e859ebe/Cython-0.29.17-cp36-cp36m-manylinux1_x86_64.whl (2.1MB)\n",
            "\u001b[K     |████████████████████████████████| 2.1MB 40.6MB/s \n",
            "\u001b[?25hRequirement already satisfied: joblib>=0.11 in /usr/local/lib/python3.6/dist-packages (from pmdarima) (0.17.0)\n",
            "Collecting statsmodels!=0.12.0,>=0.11\n",
            "\u001b[?25l  Downloading https://files.pythonhosted.org/packages/be/4c/9e2435ca6645d6bafa2b51bb11f0a365b28934a2ffe9d6e339d67130926d/statsmodels-0.12.1-cp36-cp36m-manylinux1_x86_64.whl (9.5MB)\n",
            "\u001b[K     |████████████████████████████████| 9.5MB 40.4MB/s \n",
            "\u001b[?25hRequirement already satisfied: setuptools!=50.0.0,>=38.6.0 in /usr/local/lib/python3.6/dist-packages (from pmdarima) (50.3.2)\n",
            "Requirement already satisfied: python-dateutil>=2.7.3 in /usr/local/lib/python3.6/dist-packages (from pandas>=0.19->pmdarima) (2.8.1)\n",
            "Requirement already satisfied: pytz>=2017.2 in /usr/local/lib/python3.6/dist-packages (from pandas>=0.19->pmdarima) (2018.9)\n",
            "Requirement already satisfied: patsy>=0.5 in /usr/local/lib/python3.6/dist-packages (from statsmodels!=0.12.0,>=0.11->pmdarima) (0.5.1)\n",
            "Requirement already satisfied: six>=1.5 in /usr/local/lib/python3.6/dist-packages (from python-dateutil>=2.7.3->pandas>=0.19->pmdarima) (1.15.0)\n",
            "Installing collected packages: Cython, statsmodels, pmdarima\n",
            "  Found existing installation: Cython 0.29.21\n",
            "    Uninstalling Cython-0.29.21:\n",
            "      Successfully uninstalled Cython-0.29.21\n",
            "  Found existing installation: statsmodels 0.10.2\n",
            "    Uninstalling statsmodels-0.10.2:\n",
            "      Successfully uninstalled statsmodels-0.10.2\n",
            "Successfully installed Cython-0.29.17 pmdarima-1.8.0 statsmodels-0.12.1\n"
          ],
          "name": "stdout"
        }
      ]
    },
    {
      "cell_type": "code",
      "metadata": {
        "id": "F3clHUm_ZteD",
        "colab": {
          "base_uri": "https://localhost:8080/"
        },
        "outputId": "fea43b98-c22b-4ef2-f455-ce2c4d5a85d0"
      },
      "source": [
        "import tensorflow as tf\n",
        "import numpy as np\n",
        "import matplotlib.pyplot as plt\n",
        "import pandas as pd\n",
        "print(tf.__version__)\n",
        "import datetime as dt\n",
        "from datetime import datetime\n",
        "from datetime import date\n",
        "from dateutil.relativedelta import relativedelta\n",
        "import logging\n",
        "import numpy as np\n",
        "## For data\n",
        "import pandas as pd\n",
        "import numpy as np\n",
        "## For plotting\n",
        "import matplotlib.pyplot as plt\n",
        "## For Arima\n",
        "import pmdarima\n",
        "import statsmodels.tsa.api as smt\n",
        "## For Lstm\n",
        "from tensorflow.keras import models, layers, preprocessing as kprocessing\n",
        "## For Prophet\n",
        "from fbprophet import Prophet\n",
        "# For errors\n",
        "from sklearn.metrics import mean_squared_error\n",
        "from statsmodels.tools.eval_measures import rmse\n"
      ],
      "execution_count": null,
      "outputs": [
        {
          "output_type": "stream",
          "text": [
            "2.3.0\n"
          ],
          "name": "stdout"
        }
      ]
    },
    {
      "cell_type": "code",
      "metadata": {
        "id": "AA3RIjfGZzpn",
        "colab": {
          "base_uri": "https://localhost:8080/"
        },
        "outputId": "18e12b04-190c-4b35-acd4-36bcc9217fba"
      },
      "source": [
        "from google.colab import drive\n",
        "\n",
        "drive.mount('/content/drive')"
      ],
      "execution_count": null,
      "outputs": [
        {
          "output_type": "stream",
          "text": [
            "Mounted at /content/drive\n"
          ],
          "name": "stdout"
        }
      ]
    },
    {
      "cell_type": "code",
      "metadata": {
        "colab": {
          "base_uri": "https://localhost:8080/",
          "height": 1000
        },
        "id": "TI14EBVpuotS",
        "outputId": "d5d1f0f3-00ee-4936-f6dd-d79913ed2bcf"
      },
      "source": [
        "cargue = pd.read_csv(\"/content/drive/My Drive/colab bases/Consolidado General 11_2018-06_2020.csv\",encoding='latin1', delimiter=';')\r\n",
        "#df = pd.cargue({\r\n",
        "    #'Codigo Zona': ['DOMICILIO/CARGUE']})\r\n",
        "cargue['Codigo Zona'] =np.where((cargue['Codigo Zona']== 'DOMICILIOS/CARGUE'),'DOMICILIOS_CARGUE',cargue['Codigo Zona'])\r\n",
        "cargue.head(15)"
      ],
      "execution_count": null,
      "outputs": [
        {
          "output_type": "stream",
          "text": [
            "/usr/local/lib/python3.6/dist-packages/IPython/core/interactiveshell.py:2718: DtypeWarning:\n",
            "\n",
            "Columns (12,14) have mixed types.Specify dtype option on import or set low_memory=False.\n",
            "\n"
          ],
          "name": "stderr"
        },
        {
          "output_type": "execute_result",
          "data": {
            "text/html": [
              "<div>\n",
              "<style scoped>\n",
              "    .dataframe tbody tr th:only-of-type {\n",
              "        vertical-align: middle;\n",
              "    }\n",
              "\n",
              "    .dataframe tbody tr th {\n",
              "        vertical-align: top;\n",
              "    }\n",
              "\n",
              "    .dataframe thead th {\n",
              "        text-align: right;\n",
              "    }\n",
              "</style>\n",
              "<table border=\"1\" class=\"dataframe\">\n",
              "  <thead>\n",
              "    <tr style=\"text-align: right;\">\n",
              "      <th></th>\n",
              "      <th>Id Registro</th>\n",
              "      <th>Operador ingreso</th>\n",
              "      <th>Operador salida</th>\n",
              "      <th>Codigo Zona</th>\n",
              "      <th>Placa</th>\n",
              "      <th>Tipo vehículo</th>\n",
              "      <th>Fecha ingreso</th>\n",
              "      <th>Hora ingreso</th>\n",
              "      <th>Fecha salida</th>\n",
              "      <th>Hora salida</th>\n",
              "      <th>Impulsador TR</th>\n",
              "      <th>Fecha TR</th>\n",
              "      <th>Total minutos</th>\n",
              "      <th>Valor</th>\n",
              "      <th>Num. Factura</th>\n",
              "      <th>Tarifa</th>\n",
              "      <th>Estado factura</th>\n",
              "    </tr>\n",
              "  </thead>\n",
              "  <tbody>\n",
              "    <tr>\n",
              "      <th>0</th>\n",
              "      <td>5810628</td>\n",
              "      <td>EDER ECHEVERRY GALEANO</td>\n",
              "      <td>EDER ECHEVERRY GALEANO</td>\n",
              "      <td>EL ABUELO Y SON &amp; SORBO</td>\n",
              "      <td>EHL999</td>\n",
              "      <td>Automoviles</td>\n",
              "      <td>2018-11-01 07:01:53</td>\n",
              "      <td>07:01:53</td>\n",
              "      <td>2018-11-01 07:14:47</td>\n",
              "      <td>07:14:47</td>\n",
              "      <td>NaN</td>\n",
              "      <td>NaN</td>\n",
              "      <td>0h 12m 54s</td>\n",
              "      <td>800</td>\n",
              "      <td>NaN</td>\n",
              "      <td>CARRO ZER CALDAS</td>\n",
              "      <td>Tiquete pago</td>\n",
              "    </tr>\n",
              "    <tr>\n",
              "      <th>1</th>\n",
              "      <td>5810635</td>\n",
              "      <td>EDER ECHEVERRY GALEANO</td>\n",
              "      <td>EDER ECHEVERRY GALEANO</td>\n",
              "      <td>EL ABUELO Y SON &amp; SORBO</td>\n",
              "      <td>FCY730</td>\n",
              "      <td>Automoviles</td>\n",
              "      <td>2018-11-01 07:02:23</td>\n",
              "      <td>07:02:23</td>\n",
              "      <td>2018-11-01 18:25:24</td>\n",
              "      <td>18:25:24</td>\n",
              "      <td>NaN</td>\n",
              "      <td>NaN</td>\n",
              "      <td>11h 23m 1s</td>\n",
              "      <td>36800</td>\n",
              "      <td>NaN</td>\n",
              "      <td>CARRO ZER CALDAS</td>\n",
              "      <td>Tiquete pago</td>\n",
              "    </tr>\n",
              "    <tr>\n",
              "      <th>2</th>\n",
              "      <td>5822823</td>\n",
              "      <td>EDER ECHEVERRY GALEANO</td>\n",
              "      <td>EDER ECHEVERRY GALEANO</td>\n",
              "      <td>EL ABUELO Y SON &amp; SORBO</td>\n",
              "      <td>HNV201</td>\n",
              "      <td>Automoviles</td>\n",
              "      <td>2018-11-01 07:35:28</td>\n",
              "      <td>07:35:28</td>\n",
              "      <td>2018-11-01 18:49:40</td>\n",
              "      <td>18:49:40</td>\n",
              "      <td>NaN</td>\n",
              "      <td>NaN</td>\n",
              "      <td>11h 14m 12s</td>\n",
              "      <td>36000</td>\n",
              "      <td>NaN</td>\n",
              "      <td>CARRO ZER CALDAS</td>\n",
              "      <td>Tiquete pago</td>\n",
              "    </tr>\n",
              "    <tr>\n",
              "      <th>3</th>\n",
              "      <td>5811677</td>\n",
              "      <td>SEBASTIAN VELASQUEZ POSADA</td>\n",
              "      <td>SEBASTIAN VELASQUEZ POSADA</td>\n",
              "      <td>FULLHOGAR</td>\n",
              "      <td>WUX03C</td>\n",
              "      <td>Motos</td>\n",
              "      <td>2018-11-01 07:46:34</td>\n",
              "      <td>07:46:34</td>\n",
              "      <td>2018-11-01 12:12:11</td>\n",
              "      <td>12:12:11</td>\n",
              "      <td>NaN</td>\n",
              "      <td>NaN</td>\n",
              "      <td>4h 25m 37s</td>\n",
              "      <td>4500</td>\n",
              "      <td>NaN</td>\n",
              "      <td>MOTOS ZER CALDAS</td>\n",
              "      <td>Tiquete pago</td>\n",
              "    </tr>\n",
              "    <tr>\n",
              "      <th>4</th>\n",
              "      <td>5811679</td>\n",
              "      <td>SEBASTIAN VELASQUEZ POSADA</td>\n",
              "      <td>SEBASTIAN VELASQUEZ POSADA</td>\n",
              "      <td>FULLHOGAR</td>\n",
              "      <td>ZHA49A</td>\n",
              "      <td>Motos</td>\n",
              "      <td>2018-11-01 07:48:15</td>\n",
              "      <td>07:48:15</td>\n",
              "      <td>2018-11-01 20:58:34</td>\n",
              "      <td>20:58:34</td>\n",
              "      <td>NaN</td>\n",
              "      <td>NaN</td>\n",
              "      <td>13h 10m 19s</td>\n",
              "      <td>11250</td>\n",
              "      <td>NaN</td>\n",
              "      <td>MOTOS ZER CALDAS</td>\n",
              "      <td>Tiquete pago</td>\n",
              "    </tr>\n",
              "    <tr>\n",
              "      <th>5</th>\n",
              "      <td>5811680</td>\n",
              "      <td>SEBASTIAN VELASQUEZ POSADA</td>\n",
              "      <td>SEBASTIAN VELASQUEZ POSADA</td>\n",
              "      <td>FULLHOGAR</td>\n",
              "      <td>HBG80D</td>\n",
              "      <td>Motos</td>\n",
              "      <td>2018-11-01 07:51:18</td>\n",
              "      <td>07:51:18</td>\n",
              "      <td>2018-11-01 20:58:09</td>\n",
              "      <td>20:58:09</td>\n",
              "      <td>NaN</td>\n",
              "      <td>NaN</td>\n",
              "      <td>13h 6m 51s</td>\n",
              "      <td>11250</td>\n",
              "      <td>NaN</td>\n",
              "      <td>MOTOS ZER CALDAS</td>\n",
              "      <td>Tiquete pago</td>\n",
              "    </tr>\n",
              "    <tr>\n",
              "      <th>6</th>\n",
              "      <td>5811678</td>\n",
              "      <td>SEBASTIAN VELASQUEZ POSADA</td>\n",
              "      <td>SEBASTIAN VELASQUEZ POSADA</td>\n",
              "      <td>FULLHOGAR</td>\n",
              "      <td>MBG26C</td>\n",
              "      <td>Motos</td>\n",
              "      <td>2018-11-01 07:51:58</td>\n",
              "      <td>07:51:58</td>\n",
              "      <td>2018-11-01 12:17:22</td>\n",
              "      <td>12:17:22</td>\n",
              "      <td>NaN</td>\n",
              "      <td>NaN</td>\n",
              "      <td>4h 25m 24s</td>\n",
              "      <td>4500</td>\n",
              "      <td>NaN</td>\n",
              "      <td>MOTOS ZER CALDAS</td>\n",
              "      <td>Tiquete pago</td>\n",
              "    </tr>\n",
              "    <tr>\n",
              "      <th>7</th>\n",
              "      <td>5811681</td>\n",
              "      <td>SEBASTIAN VELASQUEZ POSADA</td>\n",
              "      <td>SEBASTIAN VELASQUEZ POSADA</td>\n",
              "      <td>FULLHOGAR</td>\n",
              "      <td>PIX35E</td>\n",
              "      <td>Motos</td>\n",
              "      <td>2018-11-01 07:52:37</td>\n",
              "      <td>07:52:37</td>\n",
              "      <td>2018-11-01 20:58:23</td>\n",
              "      <td>20:58:23</td>\n",
              "      <td>NaN</td>\n",
              "      <td>NaN</td>\n",
              "      <td>13h 5m 46s</td>\n",
              "      <td>11250</td>\n",
              "      <td>NaN</td>\n",
              "      <td>MOTOS ZER CALDAS</td>\n",
              "      <td>Tiquete pago</td>\n",
              "    </tr>\n",
              "    <tr>\n",
              "      <th>8</th>\n",
              "      <td>5811682</td>\n",
              "      <td>SEBASTIAN VELASQUEZ POSADA</td>\n",
              "      <td>SEBASTIAN VELASQUEZ POSADA</td>\n",
              "      <td>FULLHOGAR</td>\n",
              "      <td>KHG98E</td>\n",
              "      <td>Motos</td>\n",
              "      <td>2018-11-01 07:53:17</td>\n",
              "      <td>07:53:17</td>\n",
              "      <td>2018-11-01 10:31:02</td>\n",
              "      <td>10:31:02</td>\n",
              "      <td>NaN</td>\n",
              "      <td>NaN</td>\n",
              "      <td>2h 37m 45s</td>\n",
              "      <td>2750</td>\n",
              "      <td>NaN</td>\n",
              "      <td>MOTOS ZER CALDAS</td>\n",
              "      <td>Tiquete pago</td>\n",
              "    </tr>\n",
              "    <tr>\n",
              "      <th>9</th>\n",
              "      <td>5811683</td>\n",
              "      <td>SEBASTIAN VELASQUEZ POSADA</td>\n",
              "      <td>SEBASTIAN VELASQUEZ POSADA</td>\n",
              "      <td>FULLHOGAR</td>\n",
              "      <td>WBF47C</td>\n",
              "      <td>Motos</td>\n",
              "      <td>2018-11-01 07:53:50</td>\n",
              "      <td>07:53:50</td>\n",
              "      <td>2018-11-01 20:57:57</td>\n",
              "      <td>20:57:57</td>\n",
              "      <td>NaN</td>\n",
              "      <td>NaN</td>\n",
              "      <td>13h 4m 7s</td>\n",
              "      <td>11250</td>\n",
              "      <td>NaN</td>\n",
              "      <td>MOTOS ZER CALDAS</td>\n",
              "      <td>Tiquete pago</td>\n",
              "    </tr>\n",
              "    <tr>\n",
              "      <th>10</th>\n",
              "      <td>5811684</td>\n",
              "      <td>SEBASTIAN VELASQUEZ POSADA</td>\n",
              "      <td>SEBASTIAN VELASQUEZ POSADA</td>\n",
              "      <td>FULLHOGAR</td>\n",
              "      <td>LVR24C</td>\n",
              "      <td>Motos</td>\n",
              "      <td>2018-11-01 07:54:42</td>\n",
              "      <td>07:54:42</td>\n",
              "      <td>2018-11-01 08:04:27</td>\n",
              "      <td>08:04:27</td>\n",
              "      <td>NaN</td>\n",
              "      <td>NaN</td>\n",
              "      <td>0h 9m 45s</td>\n",
              "      <td>250</td>\n",
              "      <td>NaN</td>\n",
              "      <td>MOTOS ZER CALDAS</td>\n",
              "      <td>Tiquete pago</td>\n",
              "    </tr>\n",
              "    <tr>\n",
              "      <th>11</th>\n",
              "      <td>5811685</td>\n",
              "      <td>SEBASTIAN VELASQUEZ POSADA</td>\n",
              "      <td>SEBASTIAN VELASQUEZ POSADA</td>\n",
              "      <td>FULLHOGAR</td>\n",
              "      <td>SMJ44A</td>\n",
              "      <td>Motos</td>\n",
              "      <td>2018-11-01 07:55:45</td>\n",
              "      <td>07:55:45</td>\n",
              "      <td>2018-11-01 20:57:45</td>\n",
              "      <td>20:57:45</td>\n",
              "      <td>NaN</td>\n",
              "      <td>NaN</td>\n",
              "      <td>13h 2m 0s</td>\n",
              "      <td>11250</td>\n",
              "      <td>NaN</td>\n",
              "      <td>MOTOS ZER CALDAS</td>\n",
              "      <td>Tiquete pago</td>\n",
              "    </tr>\n",
              "    <tr>\n",
              "      <th>12</th>\n",
              "      <td>5811400</td>\n",
              "      <td>JAIRO ALONSO VASQUEZ MONTOYA</td>\n",
              "      <td>JAIRO ALONSO VASQUEZ MONTOYA</td>\n",
              "      <td>DOMICILIOS_CARGUE</td>\n",
              "      <td>BOT18C</td>\n",
              "      <td>Motos</td>\n",
              "      <td>2018-11-01 07:56:05</td>\n",
              "      <td>07:56:05</td>\n",
              "      <td>2018-11-01 15:42:47</td>\n",
              "      <td>15:42:47</td>\n",
              "      <td>NaN</td>\n",
              "      <td>NaN</td>\n",
              "      <td>7h 46m 42s</td>\n",
              "      <td>8000</td>\n",
              "      <td>NaN</td>\n",
              "      <td>MOTOS ZER CALDAS</td>\n",
              "      <td>Tiquete pago</td>\n",
              "    </tr>\n",
              "    <tr>\n",
              "      <th>13</th>\n",
              "      <td>5811686</td>\n",
              "      <td>SEBASTIAN VELASQUEZ POSADA</td>\n",
              "      <td>SEBASTIAN VELASQUEZ POSADA</td>\n",
              "      <td>FULLHOGAR</td>\n",
              "      <td>JJH57D</td>\n",
              "      <td>Motos</td>\n",
              "      <td>2018-11-01 07:56:37</td>\n",
              "      <td>07:56:37</td>\n",
              "      <td>2018-11-01 20:57:33</td>\n",
              "      <td>20:57:33</td>\n",
              "      <td>NaN</td>\n",
              "      <td>NaN</td>\n",
              "      <td>13h 0m 56s</td>\n",
              "      <td>11250</td>\n",
              "      <td>NaN</td>\n",
              "      <td>MOTOS ZER CALDAS</td>\n",
              "      <td>Tiquete pago</td>\n",
              "    </tr>\n",
              "    <tr>\n",
              "      <th>14</th>\n",
              "      <td>5811692</td>\n",
              "      <td>SEBASTIAN VELASQUEZ POSADA</td>\n",
              "      <td>SEBASTIAN VELASQUEZ POSADA</td>\n",
              "      <td>FULLHOGAR</td>\n",
              "      <td>SUN70D</td>\n",
              "      <td>Motos</td>\n",
              "      <td>2018-11-01 07:57:11</td>\n",
              "      <td>07:57:11</td>\n",
              "      <td>2018-11-01 15:52:09</td>\n",
              "      <td>15:52:09</td>\n",
              "      <td>JAIRO ALONSO VASQUEZ MONTOYA</td>\n",
              "      <td>2018-11-02 09:15:23</td>\n",
              "      <td>7h 54m 58s</td>\n",
              "      <td>8000</td>\n",
              "      <td>NaN</td>\n",
              "      <td>MOTOS ZER CALDAS</td>\n",
              "      <td>Cartera recuperada</td>\n",
              "    </tr>\n",
              "  </tbody>\n",
              "</table>\n",
              "</div>"
            ],
            "text/plain": [
              "    Id Registro  ...      Estado factura\n",
              "0       5810628  ...        Tiquete pago\n",
              "1       5810635  ...        Tiquete pago\n",
              "2       5822823  ...        Tiquete pago\n",
              "3       5811677  ...        Tiquete pago\n",
              "4       5811679  ...        Tiquete pago\n",
              "5       5811680  ...        Tiquete pago\n",
              "6       5811678  ...        Tiquete pago\n",
              "7       5811681  ...        Tiquete pago\n",
              "8       5811682  ...        Tiquete pago\n",
              "9       5811683  ...        Tiquete pago\n",
              "10      5811684  ...        Tiquete pago\n",
              "11      5811685  ...        Tiquete pago\n",
              "12      5811400  ...        Tiquete pago\n",
              "13      5811686  ...        Tiquete pago\n",
              "14      5811692  ...  Cartera recuperada\n",
              "\n",
              "[15 rows x 17 columns]"
            ]
          },
          "metadata": {
            "tags": []
          },
          "execution_count": 5
        }
      ]
    },
    {
      "cell_type": "code",
      "metadata": {
        "id": "OhnMXBnEaD7D"
      },
      "source": [
        "def CargarDatos(estacion, vehiculo):\n",
        "  dtf = cargue\n",
        "  dtf=dtf[dtf['Codigo Zona']==estacion]\n",
        "  dtf=dtf[dtf['Tipo vehículo']==vehiculo]\n",
        "  dtf=dtf[['Fecha ingreso','Fecha salida']]\n",
        "  dtf[\"Fecha ingreso\"] = pd.to_datetime(dtf['Fecha ingreso'], format='%Y-%m-%d %H:%M:%S')\n",
        "  dtf[\"Fecha salida\"] = pd.to_datetime(dtf['Fecha salida'], format='%Y-%m-%d %H:%M:%S')\n",
        "  dtfI=pd.DataFrame()\n",
        "  dtfI['Fecha']=dtf['Fecha ingreso']\n",
        "  dtfI['conteo']=1\n",
        "  dtfI.set_index('Fecha',inplace=True)\n",
        "  dtfI.head()\n",
        "  dtfS=pd.DataFrame()\n",
        "  dtfS['Fecha']=dtf['Fecha salida']\n",
        "  dtfS['conteo']=-1\n",
        "  dtfS.set_index('Fecha',inplace=True)\n",
        "  dt=pd.concat([dtfI,dtfS])\n",
        "  dt.sort_index(inplace=True)\n",
        "  dt['Cont']=dt['conteo'].cumsum()\n",
        "  dt=dt[['Cont']]\n",
        "  dt = dt[(dt.index.to_series()>'2020-01-15')]\n",
        "  dt = dt.resample('T').last().bfill()\n",
        "  dt.reset_index(inplace=True)\n",
        "  df_pr = dt.copy()\n",
        "  return dt\n"
      ],
      "execution_count": null,
      "outputs": []
    },
    {
      "cell_type": "code",
      "metadata": {
        "id": "w85EsFPBfkcS"
      },
      "source": [
        "def ObtenerEstaciones():\n",
        "  dtf = pd.read_csv(\"/content/drive/My Drive/colab bases/Consolidado General 11_2018-06_2020.csv\", encoding='latin1', delimiter=';')\n",
        "  return set(dtf[\"Codigo Zona\"])\n"
      ],
      "execution_count": null,
      "outputs": []
    },
    {
      "cell_type": "code",
      "metadata": {
        "id": "d_shArs3aIDZ"
      },
      "source": [
        "def PredecirConProphet(df_pr):\n",
        "  m = Prophet()\n",
        "  #m.add_country_holidays(country_name='CO')\n",
        "  m.fit(train_data_pr)  \n",
        "  future = m.make_future_dataframe(periods=7000,freq='min')\n",
        "  prophet_pred = m.predict(future)\n",
        "  prophet_pred = pd.DataFrame({\"Date\" : prophet_pred[-7000:]['ds'], \"Pred\" : prophet_pred[-7000:][\"yhat\"]})\n",
        "  prophet_pred = prophet_pred.set_index(\"Date\")\n",
        "  prophet_pred.index.freq = \"min\"\n",
        "  return prophet_pred"
      ],
      "execution_count": null,
      "outputs": []
    },
    {
      "cell_type": "code",
      "metadata": {
        "id": "MbyW0QHNlIE0"
      },
      "source": [
        "def CalcularRMSEProphet(test_data, prophet_pred):\n",
        "  prophet_rmse_error = rmse(test_data['y'], prophet_pred['Pred'].values)\n",
        "  # prophet_mse_error = prophet_rmse_error**2\n",
        "  return prophet_rmse_error"
      ],
      "execution_count": null,
      "outputs": []
    },
    {
      "cell_type": "code",
      "metadata": {
        "colab": {
          "base_uri": "https://localhost:8080/"
        },
        "id": "iptcOjtooJHt",
        "outputId": "25c9fee0-8947-46cc-b5f6-9952be4663f0"
      },
      "source": [
        "resultados = dict()\n",
        "for estacion in ObtenerEstaciones():\n",
        "  if estacion not in resultados:\n",
        "    resultados[estacion] = dict()\n",
        "  for vehiculo in [\"Automoviles\", \"Motos\"]:\n",
        "    print(f\"Corriendo estación: {estacion} vehículo {vehiculo}\")\n",
        "    resultados[estacion][vehiculo] = dict()\n",
        "    dt = CargarDatos(estacion, vehiculo)\n",
        "    dt.columns = ['ds','y'] # To use prophet column names should be like that\n",
        "    dt = dt[dt['y'].notnull()].copy()\n",
        "    print(\"Datos cargados\")\n",
        "    if dt.empty or dt.shape[0] < 2:\n",
        "      continue\n",
        "    # Probar con datos de prueba\n",
        "    train_data_pr = dt.iloc[:len(dt)-7000]\n",
        "    test_data_pr = dt.iloc[len(dt)-7000:]\n",
        "    print(\"Entrenando con datos de pruebas...\")\n",
        "    try:\n",
        "      prop_pred_train = PredecirConProphet(train_data_pr)\n",
        "    except:\n",
        "      continue\n",
        "    prophet_rmse_error = CalcularRMSEProphet(test_data_pr, prop_pred_train)\n",
        "    resultados[estacion][vehiculo][\"Prophet_prueba_RMS\"] = prophet_rmse_error\n",
        "    print(f\"Error con entrenamiento {prophet_rmse_error}\")\n",
        "\n",
        "    # Prediccion futura\n",
        "    print(\"Entrenando con todos los datos de pruebas...\")\n",
        "    m = Prophet()\n",
        "    m.fit(dt)  \n",
        "    future = m.make_future_dataframe(periods=7000,freq='min')\n",
        "    print(\"Prediciendo futuros...\")\n",
        "    prophet_pred = m.predict(future)\n",
        "    print(\"Guardando archivo de predicciones\")\n",
        "    #tomar solo las siguientes predicciones\n",
        "    prophet_pred[-7000:].to_excel(f\"/content/drive/My Drive/colab bases/{estacion}_{vehiculo}_prophet.xlsx\")\n",
        "resultados = pd.DataFrame(resultados)\n",
        "resultados.to_excel(f\"/content/drive/My Drive/colab bases/resultados_prhopet.xlsx\")"
      ],
      "execution_count": null,
      "outputs": [
        {
          "output_type": "stream",
          "text": [
            "/usr/local/lib/python3.6/dist-packages/IPython/core/interactiveshell.py:2822: DtypeWarning:\n",
            "\n",
            "Columns (12,14) have mixed types.Specify dtype option on import or set low_memory=False.\n",
            "\n"
          ],
          "name": "stderr"
        },
        {
          "output_type": "stream",
          "text": [
            "Corriendo estación: EDIF. LATINO vehículo Automoviles\n",
            "Datos cargados\n",
            "Entrenando con datos de pruebas...\n"
          ],
          "name": "stdout"
        },
        {
          "output_type": "stream",
          "text": [
            "INFO:numexpr.utils:NumExpr defaulting to 2 threads.\n",
            "INFO:fbprophet:Disabling yearly seasonality. Run prophet with yearly_seasonality=True to override this.\n",
            "INFO:fbprophet:Disabling yearly seasonality. Run prophet with yearly_seasonality=True to override this.\n"
          ],
          "name": "stderr"
        },
        {
          "output_type": "stream",
          "text": [
            "Error con entrenamiento 1.4395379989963455\n",
            "Entrenando con todos los datos de pruebas...\n",
            "Prediciendo futuros...\n",
            "Guardando archivo de predicciones\n"
          ],
          "name": "stdout"
        },
        {
          "output_type": "stream",
          "text": [
            "INFO:fbprophet:Disabling yearly seasonality. Run prophet with yearly_seasonality=True to override this.\n"
          ],
          "name": "stderr"
        },
        {
          "output_type": "stream",
          "text": [
            "Corriendo estación: EDIF. LATINO vehículo Motos\n",
            "Datos cargados\n",
            "Entrenando con datos de pruebas...\n"
          ],
          "name": "stdout"
        },
        {
          "output_type": "stream",
          "text": [
            "INFO:fbprophet:Disabling yearly seasonality. Run prophet with yearly_seasonality=True to override this.\n"
          ],
          "name": "stderr"
        },
        {
          "output_type": "stream",
          "text": [
            "Error con entrenamiento 0.517648787736812\n",
            "Entrenando con todos los datos de pruebas...\n",
            "Prediciendo futuros...\n",
            "Guardando archivo de predicciones\n",
            "Corriendo estación: LA ESTACION vehículo Automoviles\n",
            "Datos cargados\n",
            "Corriendo estación: LA ESTACION vehículo Motos\n",
            "Datos cargados\n",
            "Corriendo estación: NOTARIA UNICA vehículo Automoviles\n",
            "Datos cargados\n",
            "Corriendo estación: NOTARIA UNICA vehículo Motos\n",
            "Datos cargados\n",
            "Corriendo estación: CASA DE LA CULTURA vehículo Automoviles\n"
          ],
          "name": "stdout"
        },
        {
          "output_type": "stream",
          "text": [
            "INFO:fbprophet:Disabling yearly seasonality. Run prophet with yearly_seasonality=True to override this.\n"
          ],
          "name": "stderr"
        },
        {
          "output_type": "stream",
          "text": [
            "Datos cargados\n",
            "Entrenando con datos de pruebas...\n"
          ],
          "name": "stdout"
        },
        {
          "output_type": "stream",
          "text": [
            "INFO:fbprophet:Disabling yearly seasonality. Run prophet with yearly_seasonality=True to override this.\n"
          ],
          "name": "stderr"
        },
        {
          "output_type": "stream",
          "text": [
            "Error con entrenamiento 1.2702112391089802\n",
            "Entrenando con todos los datos de pruebas...\n",
            "Prediciendo futuros...\n",
            "Guardando archivo de predicciones\n",
            "Corriendo estación: CASA DE LA CULTURA vehículo Motos\n",
            "Datos cargados\n",
            "Entrenando con datos de pruebas...\n"
          ],
          "name": "stdout"
        },
        {
          "output_type": "stream",
          "text": [
            "INFO:fbprophet:Disabling yearly seasonality. Run prophet with yearly_seasonality=True to override this.\n",
            "INFO:fbprophet:Disabling yearly seasonality. Run prophet with yearly_seasonality=True to override this.\n"
          ],
          "name": "stderr"
        },
        {
          "output_type": "stream",
          "text": [
            "Error con entrenamiento 0.5721464686113337\n",
            "Entrenando con todos los datos de pruebas...\n",
            "Prediciendo futuros...\n",
            "Guardando archivo de predicciones\n",
            "Corriendo estación: DOMICILIOS/CARGUE vehículo Automoviles\n",
            "Datos cargados\n",
            "Corriendo estación: DOMICILIOS/CARGUE vehículo Motos\n",
            "Datos cargados\n",
            "Corriendo estación: PARQUE CALDAS vehículo Automoviles\n",
            "Datos cargados\n",
            "Entrenando con datos de pruebas...\n"
          ],
          "name": "stdout"
        },
        {
          "output_type": "stream",
          "text": [
            "INFO:fbprophet:Disabling yearly seasonality. Run prophet with yearly_seasonality=True to override this.\n",
            "INFO:fbprophet:Disabling yearly seasonality. Run prophet with yearly_seasonality=True to override this.\n"
          ],
          "name": "stderr"
        },
        {
          "output_type": "stream",
          "text": [
            "Error con entrenamiento 1.098823568973172\n",
            "Entrenando con todos los datos de pruebas...\n",
            "Prediciendo futuros...\n",
            "Guardando archivo de predicciones\n",
            "Corriendo estación: PARQUE CALDAS vehículo Motos\n"
          ],
          "name": "stdout"
        },
        {
          "output_type": "stream",
          "text": [
            "INFO:fbprophet:Disabling yearly seasonality. Run prophet with yearly_seasonality=True to override this.\n"
          ],
          "name": "stderr"
        },
        {
          "output_type": "stream",
          "text": [
            "Datos cargados\n",
            "Entrenando con datos de pruebas...\n"
          ],
          "name": "stdout"
        },
        {
          "output_type": "stream",
          "text": [
            "INFO:fbprophet:Disabling yearly seasonality. Run prophet with yearly_seasonality=True to override this.\n"
          ],
          "name": "stderr"
        },
        {
          "output_type": "stream",
          "text": [
            "Error con entrenamiento 2.7880998671632318\n",
            "Entrenando con todos los datos de pruebas...\n",
            "Prediciendo futuros...\n",
            "Guardando archivo de predicciones\n",
            "Corriendo estación: OLAYA HERRERA CALDAS vehículo Automoviles\n",
            "Datos cargados\n",
            "Corriendo estación: OLAYA HERRERA CALDAS vehículo Motos\n",
            "Datos cargados\n",
            "Corriendo estación: ED. SAN FRANCISCO vehículo Automoviles\n",
            "Datos cargados\n",
            "Corriendo estación: ED. SAN FRANCISCO vehículo Motos\n",
            "Datos cargados\n",
            "Corriendo estación: ZONA PRUEBA vehículo Automoviles\n",
            "Datos cargados\n",
            "Corriendo estación: ZONA PRUEBA vehículo Motos\n",
            "Datos cargados\n",
            "Corriendo estación: TORRE OASIS vehículo Automoviles\n"
          ],
          "name": "stdout"
        },
        {
          "output_type": "stream",
          "text": [
            "INFO:fbprophet:Disabling yearly seasonality. Run prophet with yearly_seasonality=True to override this.\n"
          ],
          "name": "stderr"
        },
        {
          "output_type": "stream",
          "text": [
            "Datos cargados\n",
            "Entrenando con datos de pruebas...\n"
          ],
          "name": "stdout"
        },
        {
          "output_type": "stream",
          "text": [
            "INFO:fbprophet:Disabling yearly seasonality. Run prophet with yearly_seasonality=True to override this.\n"
          ],
          "name": "stderr"
        },
        {
          "output_type": "stream",
          "text": [
            "Error con entrenamiento 0.5674725434610923\n",
            "Entrenando con todos los datos de pruebas...\n",
            "Prediciendo futuros...\n",
            "Guardando archivo de predicciones\n"
          ],
          "name": "stdout"
        },
        {
          "output_type": "stream",
          "text": [
            "INFO:fbprophet:Disabling yearly seasonality. Run prophet with yearly_seasonality=True to override this.\n"
          ],
          "name": "stderr"
        },
        {
          "output_type": "stream",
          "text": [
            "Corriendo estación: TORRE OASIS vehículo Motos\n",
            "Datos cargados\n",
            "Entrenando con datos de pruebas...\n"
          ],
          "name": "stdout"
        },
        {
          "output_type": "stream",
          "text": [
            "INFO:fbprophet:Disabling yearly seasonality. Run prophet with yearly_seasonality=True to override this.\n"
          ],
          "name": "stderr"
        },
        {
          "output_type": "stream",
          "text": [
            "Error con entrenamiento 0.12172920458725321\n",
            "Entrenando con todos los datos de pruebas...\n",
            "Prediciendo futuros...\n",
            "Guardando archivo de predicciones\n",
            "Corriendo estación: CENSA vehículo Automoviles\n",
            "Datos cargados\n",
            "Entrenando con datos de pruebas...\n"
          ],
          "name": "stdout"
        },
        {
          "output_type": "stream",
          "text": [
            "INFO:fbprophet:Disabling yearly seasonality. Run prophet with yearly_seasonality=True to override this.\n",
            "INFO:fbprophet:Disabling yearly seasonality. Run prophet with yearly_seasonality=True to override this.\n"
          ],
          "name": "stderr"
        },
        {
          "output_type": "stream",
          "text": [
            "Error con entrenamiento 1.1498213574779645\n",
            "Entrenando con todos los datos de pruebas...\n",
            "Prediciendo futuros...\n",
            "Guardando archivo de predicciones\n"
          ],
          "name": "stdout"
        },
        {
          "output_type": "stream",
          "text": [
            "INFO:fbprophet:Disabling yearly seasonality. Run prophet with yearly_seasonality=True to override this.\n"
          ],
          "name": "stderr"
        },
        {
          "output_type": "stream",
          "text": [
            "Corriendo estación: CENSA vehículo Motos\n",
            "Datos cargados\n",
            "Entrenando con datos de pruebas...\n"
          ],
          "name": "stdout"
        },
        {
          "output_type": "stream",
          "text": [
            "INFO:fbprophet:Disabling yearly seasonality. Run prophet with yearly_seasonality=True to override this.\n"
          ],
          "name": "stderr"
        },
        {
          "output_type": "stream",
          "text": [
            "Error con entrenamiento 0.0672802854028264\n",
            "Entrenando con todos los datos de pruebas...\n",
            "Prediciendo futuros...\n",
            "Guardando archivo de predicciones\n",
            "Corriendo estación: PACHES-CASONA vehículo Automoviles\n",
            "Datos cargados\n",
            "Entrenando con datos de pruebas...\n"
          ],
          "name": "stdout"
        },
        {
          "output_type": "stream",
          "text": [
            "INFO:fbprophet:Disabling yearly seasonality. Run prophet with yearly_seasonality=True to override this.\n",
            "INFO:fbprophet:Disabling yearly seasonality. Run prophet with yearly_seasonality=True to override this.\n"
          ],
          "name": "stderr"
        },
        {
          "output_type": "stream",
          "text": [
            "Error con entrenamiento 2.0565438505379894\n",
            "Entrenando con todos los datos de pruebas...\n",
            "Prediciendo futuros...\n",
            "Guardando archivo de predicciones\n",
            "Corriendo estación: PACHES-CASONA vehículo Motos\n",
            "Datos cargados\n",
            "Entrenando con datos de pruebas...\n"
          ],
          "name": "stdout"
        },
        {
          "output_type": "stream",
          "text": [
            "INFO:fbprophet:Disabling yearly seasonality. Run prophet with yearly_seasonality=True to override this.\n",
            "INFO:fbprophet:Disabling yearly seasonality. Run prophet with yearly_seasonality=True to override this.\n"
          ],
          "name": "stderr"
        },
        {
          "output_type": "stream",
          "text": [
            "Error con entrenamiento 0.818231663066347\n",
            "Entrenando con todos los datos de pruebas...\n",
            "Prediciendo futuros...\n",
            "Guardando archivo de predicciones\n",
            "Corriendo estación: LA CANOA vehículo Automoviles\n",
            "Datos cargados\n",
            "Entrenando con datos de pruebas...\n"
          ],
          "name": "stdout"
        },
        {
          "output_type": "stream",
          "text": [
            "INFO:fbprophet:Disabling yearly seasonality. Run prophet with yearly_seasonality=True to override this.\n",
            "INFO:fbprophet:Disabling yearly seasonality. Run prophet with yearly_seasonality=True to override this.\n"
          ],
          "name": "stderr"
        },
        {
          "output_type": "stream",
          "text": [
            "Error con entrenamiento 1.2996390394873625\n",
            "Entrenando con todos los datos de pruebas...\n",
            "Prediciendo futuros...\n",
            "Guardando archivo de predicciones\n",
            "Corriendo estación: LA CANOA vehículo Motos\n",
            "Datos cargados\n",
            "Entrenando con datos de pruebas...\n"
          ],
          "name": "stdout"
        },
        {
          "output_type": "stream",
          "text": [
            "INFO:fbprophet:Disabling yearly seasonality. Run prophet with yearly_seasonality=True to override this.\n",
            "INFO:fbprophet:Disabling yearly seasonality. Run prophet with yearly_seasonality=True to override this.\n"
          ],
          "name": "stderr"
        },
        {
          "output_type": "stream",
          "text": [
            "Error con entrenamiento 0.3872213223719019\n",
            "Entrenando con todos los datos de pruebas...\n",
            "Prediciendo futuros...\n",
            "Guardando archivo de predicciones\n"
          ],
          "name": "stdout"
        },
        {
          "output_type": "stream",
          "text": [
            "INFO:fbprophet:Disabling yearly seasonality. Run prophet with yearly_seasonality=True to override this.\n"
          ],
          "name": "stderr"
        },
        {
          "output_type": "stream",
          "text": [
            "Corriendo estación: OLAYA HERRERA Y SAN FRANCISCO vehículo Automoviles\n",
            "Datos cargados\n",
            "Entrenando con datos de pruebas...\n"
          ],
          "name": "stdout"
        },
        {
          "output_type": "stream",
          "text": [
            "INFO:fbprophet:Disabling yearly seasonality. Run prophet with yearly_seasonality=True to override this.\n"
          ],
          "name": "stderr"
        },
        {
          "output_type": "stream",
          "text": [
            "Error con entrenamiento 1.1310261678566147\n",
            "Entrenando con todos los datos de pruebas...\n",
            "Prediciendo futuros...\n",
            "Guardando archivo de predicciones\n"
          ],
          "name": "stdout"
        },
        {
          "output_type": "stream",
          "text": [
            "INFO:fbprophet:Disabling yearly seasonality. Run prophet with yearly_seasonality=True to override this.\n"
          ],
          "name": "stderr"
        },
        {
          "output_type": "stream",
          "text": [
            "Corriendo estación: OLAYA HERRERA Y SAN FRANCISCO vehículo Motos\n",
            "Datos cargados\n",
            "Entrenando con datos de pruebas...\n"
          ],
          "name": "stdout"
        },
        {
          "output_type": "stream",
          "text": [
            "INFO:fbprophet:Disabling yearly seasonality. Run prophet with yearly_seasonality=True to override this.\n"
          ],
          "name": "stderr"
        },
        {
          "output_type": "stream",
          "text": [
            "Error con entrenamiento 0.6376816480031139\n",
            "Entrenando con todos los datos de pruebas...\n",
            "Prediciendo futuros...\n",
            "Guardando archivo de predicciones\n",
            "Corriendo estación: MI VAQUITA vehículo Automoviles\n",
            "Datos cargados\n",
            "Entrenando con datos de pruebas...\n"
          ],
          "name": "stdout"
        },
        {
          "output_type": "stream",
          "text": [
            "INFO:fbprophet:Disabling yearly seasonality. Run prophet with yearly_seasonality=True to override this.\n",
            "INFO:fbprophet:Disabling yearly seasonality. Run prophet with yearly_seasonality=True to override this.\n"
          ],
          "name": "stderr"
        },
        {
          "output_type": "stream",
          "text": [
            "Error con entrenamiento 0.9699388705151148\n",
            "Entrenando con todos los datos de pruebas...\n",
            "Prediciendo futuros...\n",
            "Guardando archivo de predicciones\n",
            "Corriendo estación: MI VAQUITA vehículo Motos\n",
            "Datos cargados\n",
            "Entrenando con datos de pruebas...\n"
          ],
          "name": "stdout"
        },
        {
          "output_type": "stream",
          "text": [
            "INFO:fbprophet:Disabling yearly seasonality. Run prophet with yearly_seasonality=True to override this.\n",
            "INFO:fbprophet:Disabling yearly seasonality. Run prophet with yearly_seasonality=True to override this.\n"
          ],
          "name": "stderr"
        },
        {
          "output_type": "stream",
          "text": [
            "Error con entrenamiento 1.9918901472586896\n",
            "Entrenando con todos los datos de pruebas...\n",
            "Prediciendo futuros...\n",
            "Guardando archivo de predicciones\n",
            "Corriendo estación: EL CARRUSEL vehículo Automoviles\n",
            "Datos cargados\n",
            "Corriendo estación: EL CARRUSEL vehículo Motos\n",
            "Datos cargados\n",
            "Corriendo estación: OPTICA BOSTON vehículo Automoviles\n",
            "Datos cargados\n",
            "Corriendo estación: OPTICA BOSTON vehículo Motos\n",
            "Datos cargados\n",
            "Corriendo estación: CASA DE LA CULTURA 2 vehículo Automoviles\n"
          ],
          "name": "stdout"
        },
        {
          "output_type": "stream",
          "text": [
            "INFO:fbprophet:Disabling yearly seasonality. Run prophet with yearly_seasonality=True to override this.\n"
          ],
          "name": "stderr"
        },
        {
          "output_type": "stream",
          "text": [
            "Datos cargados\n",
            "Entrenando con datos de pruebas...\n"
          ],
          "name": "stdout"
        },
        {
          "output_type": "stream",
          "text": [
            "INFO:fbprophet:Disabling yearly seasonality. Run prophet with yearly_seasonality=True to override this.\n"
          ],
          "name": "stderr"
        },
        {
          "output_type": "stream",
          "text": [
            "Error con entrenamiento 1.0538309768662946\n",
            "Entrenando con todos los datos de pruebas...\n",
            "Prediciendo futuros...\n",
            "Guardando archivo de predicciones\n"
          ],
          "name": "stdout"
        },
        {
          "output_type": "stream",
          "text": [
            "INFO:fbprophet:Disabling yearly seasonality. Run prophet with yearly_seasonality=True to override this.\n"
          ],
          "name": "stderr"
        },
        {
          "output_type": "stream",
          "text": [
            "Corriendo estación: CASA DE LA CULTURA 2 vehículo Motos\n",
            "Datos cargados\n",
            "Entrenando con datos de pruebas...\n"
          ],
          "name": "stdout"
        },
        {
          "output_type": "stream",
          "text": [
            "INFO:fbprophet:Disabling yearly seasonality. Run prophet with yearly_seasonality=True to override this.\n"
          ],
          "name": "stderr"
        },
        {
          "output_type": "stream",
          "text": [
            "Error con entrenamiento 0.6286449442657754\n",
            "Entrenando con todos los datos de pruebas...\n",
            "Prediciendo futuros...\n",
            "Guardando archivo de predicciones\n",
            "Corriendo estación: FULLHOGAR vehículo Automoviles\n"
          ],
          "name": "stdout"
        },
        {
          "output_type": "stream",
          "text": [
            "INFO:fbprophet:Disabling yearly seasonality. Run prophet with yearly_seasonality=True to override this.\n"
          ],
          "name": "stderr"
        },
        {
          "output_type": "stream",
          "text": [
            "Datos cargados\n",
            "Entrenando con datos de pruebas...\n"
          ],
          "name": "stdout"
        },
        {
          "output_type": "stream",
          "text": [
            "INFO:fbprophet:Disabling yearly seasonality. Run prophet with yearly_seasonality=True to override this.\n"
          ],
          "name": "stderr"
        },
        {
          "output_type": "stream",
          "text": [
            "Error con entrenamiento 0.8905331101227323\n",
            "Entrenando con todos los datos de pruebas...\n",
            "Prediciendo futuros...\n",
            "Guardando archivo de predicciones\n",
            "Corriendo estación: FULLHOGAR vehículo Motos\n",
            "Datos cargados\n",
            "Entrenando con datos de pruebas...\n"
          ],
          "name": "stdout"
        },
        {
          "output_type": "stream",
          "text": [
            "INFO:fbprophet:Disabling yearly seasonality. Run prophet with yearly_seasonality=True to override this.\n",
            "INFO:fbprophet:Disabling yearly seasonality. Run prophet with yearly_seasonality=True to override this.\n"
          ],
          "name": "stderr"
        },
        {
          "output_type": "stream",
          "text": [
            "Error con entrenamiento 1.523024475452838\n",
            "Entrenando con todos los datos de pruebas...\n",
            "Prediciendo futuros...\n",
            "Guardando archivo de predicciones\n",
            "Corriendo estación: EL ABUELO Y SON & SORBO vehículo Automoviles\n",
            "Datos cargados\n",
            "Entrenando con datos de pruebas...\n"
          ],
          "name": "stdout"
        },
        {
          "output_type": "stream",
          "text": [
            "INFO:fbprophet:Disabling yearly seasonality. Run prophet with yearly_seasonality=True to override this.\n",
            "INFO:fbprophet:Disabling yearly seasonality. Run prophet with yearly_seasonality=True to override this.\n"
          ],
          "name": "stderr"
        },
        {
          "output_type": "stream",
          "text": [
            "Error con entrenamiento 1.2084057384593632\n",
            "Entrenando con todos los datos de pruebas...\n",
            "Prediciendo futuros...\n",
            "Guardando archivo de predicciones\n",
            "Corriendo estación: EL ABUELO Y SON & SORBO vehículo Motos\n",
            "Datos cargados\n",
            "Entrenando con datos de pruebas...\n"
          ],
          "name": "stdout"
        },
        {
          "output_type": "stream",
          "text": [
            "INFO:fbprophet:Disabling yearly seasonality. Run prophet with yearly_seasonality=True to override this.\n",
            "INFO:fbprophet:Disabling yearly seasonality. Run prophet with yearly_seasonality=True to override this.\n"
          ],
          "name": "stderr"
        },
        {
          "output_type": "stream",
          "text": [
            "Error con entrenamiento 0.4629954700330744\n",
            "Entrenando con todos los datos de pruebas...\n",
            "Prediciendo futuros...\n",
            "Guardando archivo de predicciones\n"
          ],
          "name": "stdout"
        }
      ]
    },
    {
      "cell_type": "code",
      "metadata": {
        "id": "Y3HsQ8zSz5W6"
      },
      "source": [
        "import os\n",
        "\n",
        "directorio = \"/content/drive/My Drive/colab bases/\"\n",
        "datos = []\n",
        "for archivo in os.listdir(\"/content/drive/My Drive/colab bases/\"):\n",
        "  if \"Copia\" in archivo:\n",
        "    continue\n",
        "  if \"resultados\" in archivo:\n",
        "    continue\n",
        "  if \"_prophet.xlsx\" not in archivo:\n",
        "    continue\n",
        "  df = pd.read_excel(os.path.join(directorio, archivo))\n",
        "  estacion, vehiculo, _ = archivo.split(\"_\")\n",
        "  df = df[[\"ds\", \"trend\"]]\n",
        "  df[\"estacion\"] = estacion\n",
        "  df[\"vehiculo\"] = vehiculo\n",
        "  datos.append(df)\n",
        "df = pd.concat(datos)\n",
        "df.to_excel(os.path.join(directorio, \"consolidado_prophet_total.xlsx\"))\n"
      ],
      "execution_count": null,
      "outputs": []
    }
  ]
}